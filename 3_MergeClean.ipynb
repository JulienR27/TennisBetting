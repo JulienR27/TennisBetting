{
 "cells": [
  {
   "cell_type": "code",
   "execution_count": 13,
   "metadata": {
    "executionInfo": {
     "elapsed": 1020,
     "status": "ok",
     "timestamp": 1653058236291,
     "user": {
      "displayName": "Julien Chaplet",
      "userId": "01655218241948219394"
     },
     "user_tz": -120
    },
    "id": "_58eElCUsiG5"
   },
   "outputs": [],
   "source": [
    "import pandas as pd\n",
    "import numpy as np\n",
    "from datetime import datetime, timedelta\n",
    "pd.set_option('display.max_columns', None, 'display.max_rows', 100)\n",
    "\n",
    "atp_data = pd.read_csv('atp_data_clean.csv')\n",
    "stats_data = pd.read_csv('ATP2000_2021.csv')\n",
    "players = pd.read_csv('atp_players.csv', header=None)\n",
    "\n",
    "atp_data = atp_data.iloc[:,1:]\n",
    "atp_data.rename({'J1' : 'Winner', 'J2': 'Loser'}, axis=1, inplace=True)\n",
    "stats_data = stats_data.iloc[:,1:]"
   ]
  },
  {
   "cell_type": "code",
   "execution_count": 14,
   "metadata": {
    "colab": {
     "base_uri": "https://localhost:8080/"
    },
    "executionInfo": {
     "elapsed": 1011,
     "status": "ok",
     "timestamp": 1653058237297,
     "user": {
      "displayName": "Julien Chaplet",
      "userId": "01655218241948219394"
     },
     "user_tz": -120
    },
    "id": "pPlBRF83slC9",
    "outputId": "ada3848a-9a53-478a-fef9-cac4397fd7a4"
   },
   "outputs": [],
   "source": [
    "#Funtion to convert player names we have in the file atp_players (in which we have the split between first name and last name) in the format of atp_data and to put every letter in uppercase\n",
    "def format_name(first_name, last_name):\n",
    "  formatted_name = last_name + ' '\n",
    "  first_name_split = first_name.split(' ')\n",
    "  if first_name_split != ['']:\n",
    "    for name in first_name_split:\n",
    "      if name !='':\n",
    "        formatted_name += name[0] + '.'\n",
    "  return formatted_name.upper()\n",
    "\n",
    "#formatting players names in atp_players\n",
    "players = players.dropna(axis=0, subset=[2])\n",
    "players[1] = players[1].fillna('')\n",
    "players['formatted_name'] = players.apply(lambda row: format_name(row[1],row[2]), axis=1)\n",
    "players = players.rename({0 : 'id'}, axis=1)\n",
    "players.drop([1,2,3,4,5], axis=1, inplace=True)"
   ]
  },
  {
   "cell_type": "code",
   "execution_count": 15,
   "metadata": {
    "executionInfo": {
     "elapsed": 620,
     "status": "ok",
     "timestamp": 1653058237913,
     "user": {
      "displayName": "Julien Chaplet",
      "userId": "01655218241948219394"
     },
     "user_tz": -120
    },
    "id": "JQgf2LLGG17n"
   },
   "outputs": [],
   "source": [
    "#We also convert names in atp_data in uppercase to avoid capitalisation issues\n",
    "atp_data['Winner'] = atp_data.apply(lambda row: row['Winner'].upper(), axis=1)\n",
    "atp_data['Loser'] = atp_data.apply(lambda row: row['Loser'].upper(), axis=1)"
   ]
  },
  {
   "cell_type": "code",
   "execution_count": 16,
   "metadata": {
    "executionInfo": {
     "elapsed": 1518,
     "status": "ok",
     "timestamp": 1653058239428,
     "user": {
      "displayName": "Julien Chaplet",
      "userId": "01655218241948219394"
     },
     "user_tz": -120
    },
    "id": "FT_FeMDmtvh8"
   },
   "outputs": [],
   "source": [
    "#We merge stats_data file with player names on their id\n",
    "#For the winners\n",
    "stats_data_formatted_name = pd.merge(left=stats_data, right=players, left_on='winner_id', right_on='id', how = 'left')\n",
    "#Then for the losers\n",
    "stats_data_formatted_name = pd.merge(left=stats_data_formatted_name, right=players, left_on='loser_id', right_on='id', how = 'left')\n",
    "#And we delete id_x (winner) and id_y (loser) that we just add\n",
    "stats_data_formatted_name.drop(['id_x', 'id_y'], axis=1, inplace=True)\n",
    "\n",
    "#We notice that stats_data_formatted_name does not contain any name with '-'\n",
    "stats_data_formatted_name[(stats_data_formatted_name['formatted_name_x'].str.contains('-')) | (stats_data_formatted_name['formatted_name_y'].str.contains('-'))]\n",
    "#so we replace the '-' in atp_data names by ' '\n",
    "atp_data['Winner'] = atp_data.apply(lambda row: row['Winner'].replace('-', ' '), axis=1)\n",
    "atp_data['Loser'] = atp_data.apply(lambda row: row['Loser'].replace('-', ' '), axis=1)\n",
    "\n",
    "#Some names are slightly different\n",
    "atp_data[['Winner', 'Loser']] = atp_data[['Winner', 'Loser']].replace({'DOLGOPOLOV O.' : 'DOLGOPOLOV A.'})\n",
    "atp_data[['Winner', 'Loser']] = atp_data[['Winner', 'Loser']].replace({'BAUTISTA R.' : 'BAUTISTA AGUT R.'})\n",
    "atp_data[['Winner', 'Loser']] = atp_data[['Winner', 'Loser']].replace({'KUZNETSOV AN.' : 'KUZNETSOV A.'})\n",
    "atp_data[['Winner', 'Loser']] = atp_data[['Winner', 'Loser']].replace({'RAMOS A.' : 'RAMOS VINOLAS A.'})\n",
    "stats_data_formatted_name[['formatted_name_x', 'formatted_name_y']] = stats_data_formatted_name[['formatted_name_x', 'formatted_name_y']].replace({'RAMOS A.' : 'RAMOS VINOLAS A.'})\n",
    "stats_data_formatted_name[['formatted_name_x', 'formatted_name_y']] = stats_data_formatted_name[['formatted_name_x', 'formatted_name_y']].replace({'VASSELIN E.R.' : 'ROGER VASSELIN E.'})\n",
    "stats_data_formatted_name[['formatted_name_x', 'formatted_name_y']] = stats_data_formatted_name[['formatted_name_x', 'formatted_name_y']].replace({'BOGOMOLOV JR A.' : 'BOGOMOLOV A.'})\n",
    "stats_data_formatted_name[['formatted_name_x', 'formatted_name_y']] = stats_data_formatted_name[['formatted_name_x', 'formatted_name_y']].replace({'SCHWARTZMAN D.S.' : 'SCHWARTZMAN D.'})\n",
    "stats_data_formatted_name[['formatted_name_x', 'formatted_name_y']] = stats_data_formatted_name[['formatted_name_x', 'formatted_name_y']].replace({'ESTRELLA V.' : 'ESTRELLA BURGOS V.'})"
   ]
  },
  {
   "cell_type": "code",
   "execution_count": 17,
   "metadata": {
    "executionInfo": {
     "elapsed": 10,
     "status": "ok",
     "timestamp": 1653058239430,
     "user": {
      "displayName": "Julien Chaplet",
      "userId": "01655218241948219394"
     },
     "user_tz": -120
    },
    "id": "AsemjgwfuLdo"
   },
   "outputs": [],
   "source": [
    "#Formatting of the match dates\n",
    "#In atp_data\n",
    "atp_data['Date'] = pd.to_datetime(atp_data['Date'])\n",
    "#In stats_data\n",
    "stats_data_formatted_name['tourney_date'] = pd.to_datetime(stats_data_formatted_name['tourney_date'], format='%Y%m%d')\n",
    "#stats_data_formatted_name.drop(stats_data[stats_data_formatted_name['tourney_date'] > datetime(year=2018, month=3, day=4)].index, axis=0, inplace=True)\n",
    "stats_data_formatted_name.sort_values(by='tourney_date', inplace=True)"
   ]
  },
  {
   "cell_type": "code",
   "execution_count": 18,
   "metadata": {
    "executionInfo": {
     "elapsed": 397,
     "status": "ok",
     "timestamp": 1653058239818,
     "user": {
      "displayName": "Julien Chaplet",
      "userId": "01655218241948219394"
     },
     "user_tz": -120
    },
    "id": "wjN3movNvXBU"
   },
   "outputs": [],
   "source": [
    "#Merging of atp_data and stats_data on date and winner and loser names\n",
    "stats_data_formatted_name.rename({'tourney_date' : 'Date', 'formatted_name_x' : 'Winner', 'formatted_name_y' : 'Loser'}, axis=1, inplace=True)\n",
    "#atp_data does not contain Davis Cup matches so we delete them from stats_data_formatted_name\n",
    "atp_data[atp_data['Tournament'].str.contains('Davis')]\n",
    "stats_data_formatted_name.drop(stats_data_formatted_name[stats_data_formatted_name['tourney_name'].str.contains('Davis Cup')].index, axis=0, inplace=True)\n",
    "#we have to merge_asof as some dates have a 1-day discrepancy probably due to time zone. But we do have to put the tolerance parameter to 16 (max duration of a tournament) as some tournaments are filled with a single date\n",
    "data_merged = pd.merge_asof(right=stats_data_formatted_name, left=atp_data, on=['Date'], by=['Winner', 'Loser'], tolerance=timedelta(days=16), direction='nearest')"
   ]
  },
  {
   "cell_type": "code",
   "execution_count": 19,
   "metadata": {
    "executionInfo": {
     "elapsed": 930,
     "status": "ok",
     "timestamp": 1653058240746,
     "user": {
      "displayName": "Julien Chaplet",
      "userId": "01655218241948219394"
     },
     "user_tz": -120
    },
    "id": "DfHZtu9moD3W"
   },
   "outputs": [],
   "source": [
    "#Deleting matches that are not in atp_data (qualificative rounds ER and 'ATP Next Gen Finals' BR)\n",
    "data_merged.drop(data_merged[(data_merged['round']=='ER') | (data_merged['round']=='BR')].index, axis=0, inplace=True)"
   ]
  },
  {
   "cell_type": "code",
   "execution_count": 20,
   "metadata": {
    "colab": {
     "base_uri": "https://localhost:8080/"
    },
    "executionInfo": {
     "elapsed": 9,
     "status": "ok",
     "timestamp": 1653058240747,
     "user": {
      "displayName": "Julien Chaplet",
      "userId": "01655218241948219394"
     },
     "user_tz": -120
    },
    "id": "PV3zwhPnM1pe",
    "outputId": "ea2518d7-15e6-4dc8-f1f3-c027ade3d2cb"
   },
   "outputs": [
    {
     "data": {
      "text/plain": [
       "ATP                       0\n",
       "Location                  0\n",
       "Tournament                0\n",
       "Date                      0\n",
       "Series                    0\n",
       "Court                     0\n",
       "Surface                   0\n",
       "Round                     0\n",
       "Best of                   0\n",
       "Winner                    0\n",
       "Loser                     0\n",
       "WRank                     0\n",
       "LRank                     0\n",
       "Wsets                     0\n",
       "Lsets                     0\n",
       "Comment                   0\n",
       "PSW                       0\n",
       "PSL                       0\n",
       "B365W                     0\n",
       "B365L                     0\n",
       "elo_winner                0\n",
       "elo_loser                 0\n",
       "proba_elo                 0\n",
       "DeltaW                    0\n",
       "DeltaL                    0\n",
       "tourney_id             2354\n",
       "tourney_name           2354\n",
       "surface                2354\n",
       "draw_size              2354\n",
       "tourney_level          2354\n",
       "match_num              2354\n",
       "winner_id              2354\n",
       "winner_seed            2354\n",
       "winner_entry           2354\n",
       "winner_name            2354\n",
       "winner_hand            2354\n",
       "winner_ht              3466\n",
       "winner_ioc             2354\n",
       "winner_age             2354\n",
       "loser_id               2354\n",
       "loser_seed             2354\n",
       "loser_entry            2354\n",
       "loser_name             2354\n",
       "loser_hand             2354\n",
       "loser_ht               4664\n",
       "loser_ioc              2354\n",
       "loser_age              2354\n",
       "score                  2354\n",
       "best_of                2354\n",
       "round                  2354\n",
       "minutes                3762\n",
       "w_ace                  2533\n",
       "w_df                   2533\n",
       "w_svpt                 2533\n",
       "w_1stIn                2533\n",
       "w_1stWon               2533\n",
       "w_2ndWon               2533\n",
       "w_SvGms                2533\n",
       "w_bpSaved              2533\n",
       "w_bpFaced              2533\n",
       "l_ace                  2533\n",
       "l_df                   2533\n",
       "l_svpt                 2533\n",
       "l_1stIn                2533\n",
       "l_1stWon               2533\n",
       "l_2ndWon               2533\n",
       "l_SvGms                2533\n",
       "l_bpSaved              2533\n",
       "l_bpFaced              2533\n",
       "winner_rank            2371\n",
       "winner_rank_points     2371\n",
       "loser_rank             2443\n",
       "loser_rank_points      2443\n",
       "tourney_date_proper    2354\n",
       "tourney_year           2354\n",
       "tourney_month          2354\n",
       "tourney_day            2354\n",
       "dtype: int64"
      ]
     },
     "execution_count": 20,
     "metadata": {},
     "output_type": "execute_result"
    }
   ],
   "source": [
    "data_merged.isna().sum()"
   ]
  },
  {
   "cell_type": "code",
   "execution_count": 21,
   "metadata": {
    "executionInfo": {
     "elapsed": 8,
     "status": "ok",
     "timestamp": 1653058240747,
     "user": {
      "displayName": "Julien Chaplet",
      "userId": "01655218241948219394"
     },
     "user_tz": -120
    },
    "id": "r5a70yGOJQeq"
   },
   "outputs": [],
   "source": [
    "#Replacing NA from 'minutes' played with 3 sets and 5 sets matches medians\n",
    "[median_minutes_3sets, median_minutes_5sets] = data_merged[['Best of', 'minutes']].groupby('Best of').median().loc[:,'minutes']\n",
    "data_merged['minutes'] = np.where((data_merged['Best of']==3) & (data_merged['minutes'].isna()), median_minutes_3sets, data_merged['minutes'])\n",
    "data_merged['minutes'] = np.where((data_merged['Best of']==5) & (data_merged['minutes'].isna()), median_minutes_5sets, data_merged['minutes'])"
   ]
  },
  {
   "cell_type": "code",
   "execution_count": 22,
   "metadata": {
    "executionInfo": {
     "elapsed": 8,
     "status": "ok",
     "timestamp": 1653058240748,
     "user": {
      "displayName": "Julien Chaplet",
      "userId": "01655218241948219394"
     },
     "user_tz": -120
    },
    "id": "lbvO8KmA_tC8"
   },
   "outputs": [],
   "source": [
    "#Deleting redundant features \n",
    "data_merged.drop(['ATP', 'Location', 'Series', 'Round', 'Best of', 'tourney_name', 'surface', 'draw_size', 'match_num', 'winner_name', 'winner_ioc', 'loser_name', 'loser_ioc', 'best_of', 'winner_rank', 'loser_rank', 'tourney_date_proper'], axis=1, inplace=True)"
   ]
  },
  {
   "cell_type": "code",
   "execution_count": 23,
   "metadata": {
    "executionInfo": {
     "elapsed": 8,
     "status": "ok",
     "timestamp": 1653058240748,
     "user": {
      "displayName": "Julien Chaplet",
      "userId": "01655218241948219394"
     },
     "user_tz": -120
    },
    "id": "PHUxKB3l4DAQ"
   },
   "outputs": [],
   "source": [
    "#We drop the remaining NAs from the merge\n",
    "data_merged.drop(data_merged[data_merged['tourney_id'].isna()].index, axis=0, inplace=True)"
   ]
  },
  {
   "cell_type": "code",
   "execution_count": 24,
   "metadata": {
    "colab": {
     "base_uri": "https://localhost:8080/"
    },
    "executionInfo": {
     "elapsed": 8,
     "status": "ok",
     "timestamp": 1653058240748,
     "user": {
      "displayName": "Julien Chaplet",
      "userId": "01655218241948219394"
     },
     "user_tz": -120
    },
    "id": "y93zu5ffFHTh",
    "outputId": "f56792de-7a76-4765-ea0e-949c53febade"
   },
   "outputs": [
    {
     "data": {
      "text/plain": [
       "Tournament               0\n",
       "Date                     0\n",
       "Court                    0\n",
       "Surface                  0\n",
       "Winner                   0\n",
       "Loser                    0\n",
       "WRank                    0\n",
       "LRank                    0\n",
       "Wsets                    0\n",
       "Lsets                    0\n",
       "Comment                  0\n",
       "PSW                      0\n",
       "PSL                      0\n",
       "B365W                    0\n",
       "B365L                    0\n",
       "elo_winner               0\n",
       "elo_loser                0\n",
       "proba_elo                0\n",
       "DeltaW                   0\n",
       "DeltaL                   0\n",
       "tourney_id               0\n",
       "tourney_level            0\n",
       "winner_id                0\n",
       "winner_seed              0\n",
       "winner_entry             0\n",
       "winner_hand              0\n",
       "winner_ht             1112\n",
       "winner_age               0\n",
       "loser_id                 0\n",
       "loser_seed               0\n",
       "loser_entry              0\n",
       "loser_hand               0\n",
       "loser_ht              2310\n",
       "loser_age                0\n",
       "score                    0\n",
       "round                    0\n",
       "minutes                  0\n",
       "w_ace                  179\n",
       "w_df                   179\n",
       "w_svpt                 179\n",
       "w_1stIn                179\n",
       "w_1stWon               179\n",
       "w_2ndWon               179\n",
       "w_SvGms                179\n",
       "w_bpSaved              179\n",
       "w_bpFaced              179\n",
       "l_ace                  179\n",
       "l_df                   179\n",
       "l_svpt                 179\n",
       "l_1stIn                179\n",
       "l_1stWon               179\n",
       "l_2ndWon               179\n",
       "l_SvGms                179\n",
       "l_bpSaved              179\n",
       "l_bpFaced              179\n",
       "winner_rank_points      17\n",
       "loser_rank_points       89\n",
       "tourney_year             0\n",
       "tourney_month            0\n",
       "tourney_day              0\n",
       "dtype: int64"
      ]
     },
     "execution_count": 24,
     "metadata": {},
     "output_type": "execute_result"
    }
   ],
   "source": [
    "data_merged.isna().sum()"
   ]
  },
  {
   "cell_type": "code",
   "execution_count": 25,
   "metadata": {
    "executionInfo": {
     "elapsed": 314,
     "status": "ok",
     "timestamp": 1653058241057,
     "user": {
      "displayName": "Julien Chaplet",
      "userId": "01655218241948219394"
     },
     "user_tz": -120
    },
    "id": "VD-JYySHTOSn"
   },
   "outputs": [],
   "source": [
    "#We add manually some missing heights\n",
    "data_merged.loc[data_merged['Winner']=='CORIC B.', 'winner_ht'] = 188\n",
    "data_merged.loc[data_merged['Loser']=='CORIC B.', 'loser_ht'] = 188\n",
    "\n",
    "data_merged.loc[data_merged['Winner']=='VESELY J.', 'winner_ht'] = 198\n",
    "data_merged.loc[data_merged['Loser']=='VESELY J.', 'loser_ht'] = 198\n",
    "\n",
    "data_merged.loc[data_merged['Winner']=='EDMUND K.', 'winner_ht'] = 188\n",
    "data_merged.loc[data_merged['Loser']=='EDMUND K.', 'loser_ht'] = 188\n",
    "\n",
    "data_merged.loc[data_merged['Winner']=='STRUFF J.L.', 'winner_ht'] = 193\n",
    "data_merged.loc[data_merged['Loser']=='STRUFF J.L.', 'loser_ht'] = 193\n",
    "\n",
    "data_merged.loc[data_merged['Winner']=='KHACHANOV K.', 'winner_ht'] = 198\n",
    "data_merged.loc[data_merged['Loser']=='KHACHANOV K.', 'loser_ht'] = 198\n",
    "\n",
    "data_merged.loc[data_merged['Winner']=='CHUNG H.', 'winner_ht'] = 188\n",
    "data_merged.loc[data_merged['Loser']=='CHUNG H.', 'loser_ht'] = 188\n",
    "\n",
    "data_merged.loc[data_merged['Winner']=='DONALDSON J.', 'winner_ht'] = 188\n",
    "data_merged.loc[data_merged['Loser']=='DONALDSON J.', 'loser_ht'] = 188\n",
    "\n",
    "data_merged.loc[data_merged['Winner']=='RUBLEV A.', 'winner_ht'] = 188\n",
    "data_merged.loc[data_merged['Loser']=='RUBLEV A.', 'loser_ht'] = 188\n",
    "\n",
    "data_merged.loc[data_merged['Winner']=='MEDVEDEV D.', 'winner_ht'] = 198\n",
    "data_merged.loc[data_merged['Loser']=='MEDVEDEV D.', 'loser_ht'] = 198\n",
    "\n",
    "data_merged.loc[data_merged['Winner']=='GROTH S.', 'winner_ht'] = 193\n",
    "data_merged.loc[data_merged['Loser']=='GROTH S.', 'loser_ht'] = 193\n",
    "\n",
    "data_merged.loc[data_merged['Winner']=='MONTEIRO T.', 'winner_ht'] = 183\n",
    "data_merged.loc[data_merged['Loser']=='MONTEIRO T.', 'loser_ht'] = 183\n",
    "\n",
    "data_merged.loc[data_merged['Winner']=='BEMELMANS R.', 'winner_ht'] = 183\n",
    "data_merged.loc[data_merged['Loser']=='BEMELMANS R.', 'loser_ht'] = 183\n",
    "\n",
    "data_merged.loc[data_merged['Winner']=='ALBOT R.', 'winner_ht'] = 175\n",
    "data_merged.loc[data_merged['Loser']=='ALBOT R.', 'loser_ht'] = 175\n",
    "\n",
    "data_merged.loc[data_merged['Winner']=='DANIEL T.', 'winner_ht'] = 191\n",
    "data_merged.loc[data_merged['Loser']=='DANIEL T.', 'loser_ht'] = 191\n",
    "\n",
    "data_merged.loc[data_merged['Winner']=='BAGNIS F.', 'winner_ht'] = 183\n",
    "data_merged.loc[data_merged['Loser']=='BAGNIS F.', 'loser_ht'] = 183\n",
    "\n",
    "data_merged.loc[data_merged['Winner']=='FABBIANO T.', 'winner_ht'] = 173\n",
    "data_merged.loc[data_merged['Loser']=='FABBIANO T.', 'loser_ht'] = 173\n",
    "\n",
    "data_merged.loc[data_merged['Winner']=='TIAFOE F.', 'winner_ht'] = 188\n",
    "data_merged.loc[data_merged['Loser']=='TIAFOE F.', 'loser_ht'] = 188\n",
    "\n",
    "data_merged.loc[data_merged['Winner']=='NISHIOKA Y.', 'winner_ht'] = 170\n",
    "data_merged.loc[data_merged['Loser']=='NISHIOKA Y.', 'loser_ht'] = 170\n",
    "\n",
    "data_merged.loc[data_merged['Winner']=='OLIVO R.', 'winner_ht'] = 178\n",
    "data_merged.loc[data_merged['Loser']=='OLIVO R.', 'loser_ht'] = 178\n",
    "\n",
    "data_merged.loc[data_merged['Winner']=='MUNOZ DE LA NAVA D.', 'winner_ht'] = 175\n",
    "data_merged.loc[data_merged['Loser']=='MUNOZ DE LA NAVA D.', 'loser_ht'] = 175\n",
    "\n",
    "data_merged.loc[data_merged['Winner']=='CECCHINATO M.', 'winner_ht'] = 185\n",
    "data_merged.loc[data_merged['Loser']=='CECCHINATO M.', 'loser_ht'] = 185\n",
    "\n",
    "data_merged.loc[data_merged['Winner']=='KOKKINAKIS T.', 'winner_ht'] = 193\n",
    "data_merged.loc[data_merged['Loser']=='KOKKINAKIS T.', 'loser_ht'] = 193\n",
    "\n",
    "data_merged.loc[data_merged['Winner']=='MELZER G.', 'winner_ht'] = 188\n",
    "data_merged.loc[data_merged['Loser']=='MELZER G.', 'loser_ht'] = 188\n",
    "\n",
    "data_merged.loc[data_merged['Winner']=='THOMPSON J.', 'winner_ht'] = 183\n",
    "data_merged.loc[data_merged['Loser']=='THOMPSON J.', 'loser_ht'] = 183\n",
    "\n",
    "data_merged.loc[data_merged['Winner']=='SHAPOVALOV D.', 'winner_ht'] = 185\n",
    "data_merged.loc[data_merged['Loser']=='SHAPOVALOV D.', 'loser_ht'] = 185"
   ]
  },
  {
   "cell_type": "code",
   "execution_count": 26,
   "metadata": {
    "colab": {
     "base_uri": "https://localhost:8080/"
    },
    "executionInfo": {
     "elapsed": 31,
     "status": "ok",
     "timestamp": 1653058241058,
     "user": {
      "displayName": "Julien Chaplet",
      "userId": "01655218241948219394"
     },
     "user_tz": -120
    },
    "id": "4QOfFr341Qtg",
    "outputId": "8e0d0c1a-8179-4427-f8bf-04afbd430138"
   },
   "outputs": [
    {
     "data": {
      "text/plain": [
       "Tournament               0\n",
       "Date                     0\n",
       "Court                    0\n",
       "Surface                  0\n",
       "Winner                   0\n",
       "Loser                    0\n",
       "WRank                    0\n",
       "LRank                    0\n",
       "Wsets                    0\n",
       "Lsets                    0\n",
       "Comment                  0\n",
       "PSW                      0\n",
       "PSL                      0\n",
       "B365W                    0\n",
       "B365L                    0\n",
       "elo_winner               0\n",
       "elo_loser                0\n",
       "proba_elo                0\n",
       "DeltaW                   0\n",
       "DeltaL                   0\n",
       "tourney_id               0\n",
       "tourney_level            0\n",
       "winner_id                0\n",
       "winner_seed              0\n",
       "winner_entry             0\n",
       "winner_hand              0\n",
       "winner_ht              453\n",
       "winner_age               0\n",
       "loser_id                 0\n",
       "loser_seed               0\n",
       "loser_entry              0\n",
       "loser_hand               0\n",
       "loser_ht              1364\n",
       "loser_age                0\n",
       "score                    0\n",
       "round                    0\n",
       "minutes                  0\n",
       "w_ace                  179\n",
       "w_df                   179\n",
       "w_svpt                 179\n",
       "w_1stIn                179\n",
       "w_1stWon               179\n",
       "w_2ndWon               179\n",
       "w_SvGms                179\n",
       "w_bpSaved              179\n",
       "w_bpFaced              179\n",
       "l_ace                  179\n",
       "l_df                   179\n",
       "l_svpt                 179\n",
       "l_1stIn                179\n",
       "l_1stWon               179\n",
       "l_2ndWon               179\n",
       "l_SvGms                179\n",
       "l_bpSaved              179\n",
       "l_bpFaced              179\n",
       "winner_rank_points      17\n",
       "loser_rank_points       89\n",
       "tourney_year             0\n",
       "tourney_month            0\n",
       "tourney_day              0\n",
       "dtype: int64"
      ]
     },
     "execution_count": 26,
     "metadata": {},
     "output_type": "execute_result"
    }
   ],
   "source": [
    "data_merged.isna().sum()"
   ]
  },
  {
   "cell_type": "code",
   "execution_count": 27,
   "metadata": {
    "executionInfo": {
     "elapsed": 25,
     "status": "ok",
     "timestamp": 1653058241058,
     "user": {
      "displayName": "Julien Chaplet",
      "userId": "01655218241948219394"
     },
     "user_tz": -120
    },
    "id": "ZpK7TTVC6dKc"
   },
   "outputs": [],
   "source": [
    "#We fill the heights still missing by the median in order to keep all the playes (as we'll see later the heights doesn't really impact the models)\n",
    "data_merged[\"winner_ht\"] = data_merged[\"winner_ht\"] .fillna(data_merged[\"winner_ht\"].median())\n",
    "data_merged[\"loser_ht\"] = data_merged[\"loser_ht\"] .fillna(data_merged[\"loser_ht\"].median())"
   ]
  },
  {
   "cell_type": "code",
   "execution_count": 28,
   "metadata": {
    "colab": {
     "base_uri": "https://localhost:8080/"
    },
    "executionInfo": {
     "elapsed": 23,
     "status": "ok",
     "timestamp": 1653058241059,
     "user": {
      "displayName": "Julien Chaplet",
      "userId": "01655218241948219394"
     },
     "user_tz": -120
    },
    "id": "StQST_oo8Q4V",
    "outputId": "b0e8643c-7628-4d79-98d3-60bf5b23cdb0"
   },
   "outputs": [
    {
     "data": {
      "text/plain": [
       "Tournament              0\n",
       "Date                    0\n",
       "Court                   0\n",
       "Surface                 0\n",
       "Winner                  0\n",
       "Loser                   0\n",
       "WRank                   0\n",
       "LRank                   0\n",
       "Wsets                   0\n",
       "Lsets                   0\n",
       "Comment                 0\n",
       "PSW                     0\n",
       "PSL                     0\n",
       "B365W                   0\n",
       "B365L                   0\n",
       "elo_winner              0\n",
       "elo_loser               0\n",
       "proba_elo               0\n",
       "DeltaW                  0\n",
       "DeltaL                  0\n",
       "tourney_id              0\n",
       "tourney_level           0\n",
       "winner_id               0\n",
       "winner_seed             0\n",
       "winner_entry            0\n",
       "winner_hand             0\n",
       "winner_ht               0\n",
       "winner_age              0\n",
       "loser_id                0\n",
       "loser_seed              0\n",
       "loser_entry             0\n",
       "loser_hand              0\n",
       "loser_ht                0\n",
       "loser_age               0\n",
       "score                   0\n",
       "round                   0\n",
       "minutes                 0\n",
       "w_ace                 179\n",
       "w_df                  179\n",
       "w_svpt                179\n",
       "w_1stIn               179\n",
       "w_1stWon              179\n",
       "w_2ndWon              179\n",
       "w_SvGms               179\n",
       "w_bpSaved             179\n",
       "w_bpFaced             179\n",
       "l_ace                 179\n",
       "l_df                  179\n",
       "l_svpt                179\n",
       "l_1stIn               179\n",
       "l_1stWon              179\n",
       "l_2ndWon              179\n",
       "l_SvGms               179\n",
       "l_bpSaved             179\n",
       "l_bpFaced             179\n",
       "winner_rank_points     17\n",
       "loser_rank_points      89\n",
       "tourney_year            0\n",
       "tourney_month           0\n",
       "tourney_day             0\n",
       "dtype: int64"
      ]
     },
     "execution_count": 28,
     "metadata": {},
     "output_type": "execute_result"
    }
   ],
   "source": [
    "data_merged.isna().sum()"
   ]
  },
  {
   "cell_type": "code",
   "execution_count": 29,
   "metadata": {
    "executionInfo": {
     "elapsed": 4047,
     "status": "ok",
     "timestamp": 1653058403950,
     "user": {
      "displayName": "Julien Chaplet",
      "userId": "01655218241948219394"
     },
     "user_tz": -120
    },
    "id": "fANlXrdVFf65"
   },
   "outputs": [],
   "source": [
    "data_merged.to_csv('ATP_merged_clean.csv', sep=',')"
   ]
  }
 ],
 "metadata": {
  "colab": {
   "authorship_tag": "ABX9TyODvOEUeO8Xx+LvLfuMGkdV",
   "collapsed_sections": [],
   "mount_file_id": "1WikyJptoR3vk_8nc59mue_1OyEzB9gyg",
   "name": "Merge_clean.ipynb",
   "provenance": [
    {
     "file_id": "1cZ1b6__80RwD9J8vGXaDv1mOZTZZyDhY",
     "timestamp": 1650359244220
    }
   ]
  },
  "kernelspec": {
   "display_name": "Python 3 (ipykernel)",
   "language": "python",
   "name": "python3"
  },
  "language_info": {
   "codemirror_mode": {
    "name": "ipython",
    "version": 3
   },
   "file_extension": ".py",
   "mimetype": "text/x-python",
   "name": "python",
   "nbconvert_exporter": "python",
   "pygments_lexer": "ipython3",
   "version": "3.9.7"
  }
 },
 "nbformat": 4,
 "nbformat_minor": 1
}
