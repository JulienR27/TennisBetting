{
 "cells": [
  {
   "cell_type": "code",
   "execution_count": 2,
   "id": "6043b246",
   "metadata": {},
   "outputs": [],
   "source": [
    "#import des principaux packages\n",
    "\n",
    "%matplotlib inline\n",
    "\n",
    "import pandas as pd\n",
    "import numpy as np\n",
    "from datetime import datetime\n",
    "import matplotlib.pyplot as plt\n",
    "import matplotlib \n",
    "matplotlib.style.use('ggplot')\n",
    "from IPython.display import display\n",
    "import seaborn as sns\n",
    "sns.set_style(\"darkgrid\")"
   ]
  },
  {
   "cell_type": "code",
   "execution_count": 3,
   "id": "6aac2cf5",
   "metadata": {},
   "outputs": [],
   "source": [
    "#import du .csv dans un dataframe\n",
    "\n",
    "path = \"atp_data.csv\"\n",
    "df = pd.read_csv(path, sep =\",\",index_col = 0)\n",
    "\n",
    "#Ce fichier nous servira principalement à extraire les cotes propres"
   ]
  },
  {
   "cell_type": "code",
   "execution_count": 4,
   "id": "b770f664",
   "metadata": {
    "scrolled": false
   },
   "outputs": [
    {
     "name": "stdout",
     "output_type": "stream",
     "text": [
      "<class 'pandas.core.frame.DataFrame'>\n",
      "Int64Index: 44708 entries, 1 to 18\n",
      "Data columns (total 22 columns):\n",
      " #   Column      Non-Null Count  Dtype  \n",
      "---  ------      --------------  -----  \n",
      " 0   Location    44708 non-null  object \n",
      " 1   Tournament  44708 non-null  object \n",
      " 2   Date        44708 non-null  object \n",
      " 3   Series      44708 non-null  object \n",
      " 4   Court       44708 non-null  object \n",
      " 5   Surface     44708 non-null  object \n",
      " 6   Round       44708 non-null  object \n",
      " 7   Best of     44708 non-null  int64  \n",
      " 8   Winner      44708 non-null  object \n",
      " 9   Loser       44708 non-null  object \n",
      " 10  WRank       44708 non-null  int64  \n",
      " 11  LRank       44708 non-null  int64  \n",
      " 12  Wsets       44521 non-null  float64\n",
      " 13  Lsets       44521 non-null  float64\n",
      " 14  Comment     44708 non-null  object \n",
      " 15  PSW         32743 non-null  float64\n",
      " 16  PSL         32743 non-null  float64\n",
      " 17  B365W       39037 non-null  float64\n",
      " 18  B365L       39057 non-null  float64\n",
      " 19  elo_winner  44708 non-null  float64\n",
      " 20  elo_loser   44708 non-null  float64\n",
      " 21  proba_elo   44708 non-null  float64\n",
      "dtypes: float64(9), int64(3), object(10)\n",
      "memory usage: 7.8+ MB\n"
     ]
    }
   ],
   "source": [
    "df.info()"
   ]
  },
  {
   "cell_type": "code",
   "execution_count": 5,
   "id": "4a6b97cf",
   "metadata": {},
   "outputs": [
    {
     "data": {
      "text/plain": [
       "0.26762548089827326"
      ]
     },
     "execution_count": 5,
     "metadata": {},
     "output_type": "execute_result"
    }
   ],
   "source": [
    "df.PSW.isna().sum()/df.shape[0]"
   ]
  },
  {
   "cell_type": "code",
   "execution_count": 6,
   "id": "bec446f7",
   "metadata": {},
   "outputs": [
    {
     "data": {
      "text/plain": [
       "0.12684530732754765"
      ]
     },
     "execution_count": 6,
     "metadata": {},
     "output_type": "execute_result"
    }
   ],
   "source": [
    "df.B365W.isna().sum()/df.shape[0]"
   ]
  },
  {
   "cell_type": "markdown",
   "id": "40caf182",
   "metadata": {},
   "source": [
    "Il y a des données manquantes principalement sur les cotes Pinnacles et B365 quelques unes aussi sur WSets et LSets"
   ]
  },
  {
   "cell_type": "code",
   "execution_count": 7,
   "id": "14bfcef6",
   "metadata": {},
   "outputs": [],
   "source": [
    "#remplacement des Nan Wsets et Lsets par leur modalité les plus fréquentes\n",
    "\n",
    "nb_sets_5_W = df.loc[df[\"Best of\"] == 5][\"Wsets\"].mode()[0]\n",
    "nb_sets_3_W = df.loc[df[\"Best of\"] == 3][\"Wsets\"].mode()[0]\n",
    "\n",
    "nb_sets_5_L = df.loc[df[\"Best of\"] == 5][\"Lsets\"].mode()[0]\n",
    "nb_sets_3_L = df.loc[df[\"Best of\"] == 3][\"Lsets\"].mode()[0]"
   ]
  },
  {
   "cell_type": "code",
   "execution_count": 8,
   "id": "7a183d16",
   "metadata": {},
   "outputs": [],
   "source": [
    "df.loc[(df[\"Best of\"] == 5) & (df[\"Wsets\"] != 3), 'Wsets'] = nb_sets_5_W\n",
    "df.loc[(df[\"Best of\"] == 3) & (df[\"Wsets\"] != 3), 'Wsets'] = nb_sets_3_W\n",
    "\n",
    "df.loc[(df[\"Best of\"] == 5) & (df[\"Lsets\"] != 0) & (df[\"Lsets\"] != 1) & (df[\"Lsets\"] != 2), 'Lsets'] = nb_sets_5_L\n",
    "df.loc[(df[\"Best of\"] == 3) & (df[\"Lsets\"] != 0) & (df[\"Lsets\"] != 1), 'Lsets'] = nb_sets_3_L\n"
   ]
  },
  {
   "cell_type": "code",
   "execution_count": 9,
   "id": "7372dd78",
   "metadata": {},
   "outputs": [],
   "source": [
    "test = df.isna()\n",
    "test = test.reset_index()\n",
    "df = df.reset_index()"
   ]
  },
  {
   "cell_type": "code",
   "execution_count": 10,
   "id": "e62f25f4",
   "metadata": {
    "scrolled": true
   },
   "outputs": [
    {
     "name": "stderr",
     "output_type": "stream",
     "text": [
      "D:\\Olia\\Documents\\Papa\\Conda\\envs\\jupyter\\lib\\site-packages\\pandas\\core\\indexing.py:1732: SettingWithCopyWarning: \n",
      "A value is trying to be set on a copy of a slice from a DataFrame\n",
      "\n",
      "See the caveats in the documentation: https://pandas.pydata.org/pandas-docs/stable/user_guide/indexing.html#returning-a-view-versus-a-copy\n",
      "  self._setitem_single_block(indexer, value, name)\n"
     ]
    }
   ],
   "source": [
    "#Cas ou l'on remplace une cote manquante de Pinnacle par celle présente de B365\n",
    "\n",
    "index1 = list(test.loc[(test['PSW'] == True) & (test[\"B365W\"] == False)].index)\n",
    "index2 = list(test.loc[(test['PSL'] == True) & (test[\"B365L\"] == False)].index)\n",
    "\n",
    "df[\"PSW\"].loc[index1] = df[\"B365W\"].loc[index1]\n",
    "df[\"PSL\"].loc[index2] = df[\"B365L\"].loc[index2]"
   ]
  },
  {
   "cell_type": "code",
   "execution_count": 11,
   "id": "6d2b8a96",
   "metadata": {},
   "outputs": [],
   "source": [
    "#On traite le cas ou il y a une cote PSL et Pas de cote PSW en fait ce cas n'existe pas\n",
    "index1 = list(test.loc[(test['PSW'] == True) & (test[\"PSL\"] == False)].index)\n",
    "\n",
    "#On traite le cas ou il y a une cote B365L et Pas de cote B365W en fait ce cas n'existe pas\n",
    "index2 = list(test.loc[(test['B365W'] == True) & (test[\"B365L\"] == False)].index)\n",
    "\n",
    "#On extrapole la cote manquante avec la relation 1/Xwinner + 1/Xloser = 1\n",
    "df[\"B365W\"].loc[index2] = df[\"B365L\"].loc[index2] / (df[\"B365L\"].loc[index2] - 1)\n"
   ]
  },
  {
   "cell_type": "code",
   "execution_count": 12,
   "id": "f72441d3",
   "metadata": {},
   "outputs": [],
   "source": [
    "#On traite le cas ou il n'y a aucune cote, dans ce cas la, on utilise la proba_elo\n",
    "#qui est la probabilité que le vainqueur gagne (avant match) donc la cote Winner\n",
    "#On interpole les cotes Loser avec la formule ==> 1/Xwinner + 1/Xloser = 1\n",
    "#On se cantonne aux proba_elo comprises entre 0.2 et 0.8 pour ne pas générer trop de cotes extrèmes artificiellement\n",
    "\n",
    "index1 = list(test.loc[(test['PSW'] == True)].index)\n",
    "index1 = list(df.loc[index1].loc[(df[\"proba_elo\"] >= 0.2) & ((df[\"proba_elo\"] <= 0.8) )].index)\n",
    "\n",
    "df[\"PSW\"].loc[index1] = 1 / df.proba_elo.loc[index1]\n",
    "df[\"PSL\"].loc[index1] = df[\"PSW\"].loc[index1] / (df[\"PSW\"].loc[index1] - 1)\n",
    "\n",
    "df[\"B365W\"].loc[index1] = 1 / df.proba_elo.loc[index1]\n",
    "df[\"B365L\"].loc[index1] = df[\"B365W\"].loc[index1] / (df[\"B365W\"].loc[index1] - 1)   "
   ]
  },
  {
   "cell_type": "code",
   "execution_count": 13,
   "id": "89a67f2a",
   "metadata": {},
   "outputs": [],
   "source": [
    "#On se débarasse des dernières lignes sans cote elles correspondent aux valeurs de proba_elo\n",
    "#inférieures à 0.2 et supérieures à 0.8\n",
    "\n",
    "df = df.dropna(axis=0, how='any')"
   ]
  },
  {
   "cell_type": "markdown",
   "id": "f6737345",
   "metadata": {},
   "source": [
    "On vérifie qu'il n'y a plus de NaN:"
   ]
  },
  {
   "cell_type": "code",
   "execution_count": 14,
   "id": "75160a6b",
   "metadata": {},
   "outputs": [
    {
     "name": "stdout",
     "output_type": "stream",
     "text": [
      "le dataframe contient 0 Nan\n"
     ]
    }
   ],
   "source": [
    "print(\"le dataframe contient\", df.isna().sum().sum(), \"Nan\")"
   ]
  },
  {
   "cell_type": "markdown",
   "id": "53ed5542",
   "metadata": {},
   "source": [
    "On vérifie que notre traitement des data n'a pas généré de valeurs aberrantes"
   ]
  },
  {
   "cell_type": "code",
   "execution_count": 15,
   "id": "f67eea7f",
   "metadata": {},
   "outputs": [
    {
     "name": "stdout",
     "output_type": "stream",
     "text": [
      "2.0    35825\n",
      "3.0     8280\n",
      "Name: Wsets, dtype: int64\n",
      "0.0    27756\n",
      "1.0    14811\n",
      "2.0     1538\n",
      "Name: Lsets, dtype: int64\n"
     ]
    }
   ],
   "source": [
    "#Verification des premières modifications sur Wsets et LSets:\n",
    "\n",
    "print(df.Wsets.value_counts())\n",
    "print(df.Lsets.value_counts())"
   ]
  },
  {
   "cell_type": "markdown",
   "id": "e26bf0c3",
   "metadata": {},
   "source": [
    "Il n'y a pas de Valeurs aberrantes générées sur WSets et LSets\n",
    "\n",
    "Vérification pour les cotes :"
   ]
  },
  {
   "cell_type": "code",
   "execution_count": 16,
   "id": "c5c7fade",
   "metadata": {},
   "outputs": [],
   "source": [
    "#Nous allons vérifier si le traitement des datas manquantes a généré des valeurs aberrantes\n",
    "path = \"..\\\\Data\\\\atp_data.csv\"\n",
    "df_verif = pd.read_csv(path, sep =\",\",index_col = 0)\n",
    "\n",
    "#On drop tous les Nan de la base\n",
    "df_verif = df_verif.dropna(axis = 0, how = \"any\")"
   ]
  },
  {
   "cell_type": "code",
   "execution_count": 17,
   "id": "ddba0a13",
   "metadata": {},
   "outputs": [
    {
     "name": "stdout",
     "output_type": "stream",
     "text": [
      "cote Pinnacle Loser Min identiques avant et après traitement \n",
      " True\n",
      "cote Pinnacle Loser Max identiques avant et après traitement \n",
      " True\n",
      "cote Pinnacle Loser Min identiques avant et après traitement \n",
      " True\n",
      "cote Pinnacle Loser Max identiques avant et après traitement \n",
      " True\n",
      "cote B365 Loser Min identiques avant et après traitement \n",
      " True\n",
      "cote B365 Loser Max identiques avant et après traitement \n",
      " True\n",
      "cote B365 Loser Min identiques avant et après traitement \n",
      " True\n",
      "cote B365 Loser Max identiques avant et après traitement \n",
      " True\n"
     ]
    }
   ],
   "source": [
    "                    #Vérification pour Pinnacle\n",
    "#=======================================================================\n",
    "print(\"cote Pinnacle Loser Min identiques avant et après traitement \\n\", \n",
    "      df.PSL.describe()[3] == df_verif.PSL.describe()[3])\n",
    "\n",
    "print(\"cote Pinnacle Loser Max identiques avant et après traitement \\n\", \n",
    "      df.PSL.describe()[7] == df_verif.PSL.describe()[7])\n",
    "\n",
    "print(\"cote Pinnacle Loser Min identiques avant et après traitement \\n\", \n",
    "      df.PSW.describe()[3] == df_verif.PSW.describe()[3])\n",
    "\n",
    "print(\"cote Pinnacle Loser Max identiques avant et après traitement \\n\", \n",
    "      df.PSW.describe()[7] == df_verif.PSW.describe()[7])\n",
    "#========================================================================\n",
    "\n",
    "                    #Vérification pour B365\n",
    "#=======================================================================\n",
    "print(\"cote B365 Loser Min identiques avant et après traitement \\n\", \n",
    "      df.B365L.describe()[3] == df_verif.B365L.describe()[3])\n",
    "\n",
    "print(\"cote B365 Loser Max identiques avant et après traitement \\n\", \n",
    "      df.B365L.describe()[7] == df_verif.B365L.describe()[7])\n",
    "\n",
    "print(\"cote B365 Loser Min identiques avant et après traitement \\n\", \n",
    "      df.B365W.describe()[3] == df_verif.B365W.describe()[3])\n",
    "\n",
    "print(\"cote B365 Loser Max identiques avant et après traitement \\n\", \n",
    "      df.B365W.describe()[7] == df_verif.B365W.describe()[7])\n",
    "#========================================================================"
   ]
  },
  {
   "cell_type": "code",
   "execution_count": 18,
   "id": "6d371c94",
   "metadata": {},
   "outputs": [
    {
     "data": {
      "text/plain": [
       "count    44105.000000\n",
       "mean         1.942329\n",
       "std          1.238314\n",
       "min          1.000000\n",
       "25%          1.316273\n",
       "50%          1.620000\n",
       "75%          2.160000\n",
       "max         46.000000\n",
       "Name: PSW, dtype: float64"
      ]
     },
     "execution_count": 18,
     "metadata": {},
     "output_type": "execute_result"
    }
   ],
   "source": [
    "df.PSW.describe()"
   ]
  },
  {
   "cell_type": "code",
   "execution_count": 19,
   "id": "affb9668",
   "metadata": {},
   "outputs": [
    {
     "data": {
      "text/plain": [
       "count    44105.000000\n",
       "mean         3.857635\n",
       "std          5.087951\n",
       "min          1.010000\n",
       "25%          1.806000\n",
       "50%          2.510000\n",
       "75%          3.850000\n",
       "max        121.000000\n",
       "Name: PSL, dtype: float64"
      ]
     },
     "execution_count": 19,
     "metadata": {},
     "output_type": "execute_result"
    }
   ],
   "source": [
    "df.PSL.describe()\n"
   ]
  },
  {
   "cell_type": "code",
   "execution_count": 20,
   "id": "5205fd2c",
   "metadata": {},
   "outputs": [
    {
     "data": {
      "text/plain": [
       "count    44105.000000\n",
       "mean         1.866542\n",
       "std          1.060013\n",
       "min          1.000000\n",
       "25%          1.280000\n",
       "50%          1.570000\n",
       "75%          2.100000\n",
       "max         29.000000\n",
       "Name: B365W, dtype: float64"
      ]
     },
     "execution_count": 20,
     "metadata": {},
     "output_type": "execute_result"
    }
   ],
   "source": [
    "df.B365W.describe()"
   ]
  },
  {
   "cell_type": "code",
   "execution_count": 21,
   "id": "4f728ac2",
   "metadata": {},
   "outputs": [
    {
     "data": {
      "text/plain": [
       "count    44105.000000\n",
       "mean         3.396950\n",
       "std          3.310709\n",
       "min          1.002000\n",
       "25%          1.723615\n",
       "50%          2.421693\n",
       "75%          3.750000\n",
       "max        101.000000\n",
       "Name: B365L, dtype: float64"
      ]
     },
     "execution_count": 21,
     "metadata": {},
     "output_type": "execute_result"
    }
   ],
   "source": [
    "df.B365L.describe()"
   ]
  },
  {
   "cell_type": "markdown",
   "id": "8559f28e",
   "metadata": {},
   "source": [
    "Nous avons des cotes max Winner/loser de 29/101 pour B3654 et 46/121 pour Pinnacle\n",
    "\n",
    "Cela correspond aux cotes max avt les modifications\n",
    "\n",
    "Nos modifications n'ont pas générées de valeurs extrême\n",
    "\n",
    "Notons que les distributions semblent comporter des valeurs extrèmes,\n",
    "ce qui est normale au tennis car les surprises sont très rares sur un énorme\n",
    "écart de niveau, contrairement au football."
   ]
  },
  {
   "cell_type": "markdown",
   "id": "b86048f8",
   "metadata": {},
   "source": [
    "On a désormais une base complète et nous avons fait la vérification sur nos modifications de Nan.\n",
    "Voyons désormais si les autres features contiennent des valeurs aberrantes :"
   ]
  },
  {
   "cell_type": "code",
   "execution_count": 22,
   "id": "208789ad",
   "metadata": {
    "scrolled": true
   },
   "outputs": [
    {
     "data": {
      "text/html": [
       "<div>\n",
       "<style scoped>\n",
       "    .dataframe tbody tr th:only-of-type {\n",
       "        vertical-align: middle;\n",
       "    }\n",
       "\n",
       "    .dataframe tbody tr th {\n",
       "        vertical-align: top;\n",
       "    }\n",
       "\n",
       "    .dataframe thead th {\n",
       "        text-align: right;\n",
       "    }\n",
       "</style>\n",
       "<table border=\"1\" class=\"dataframe\">\n",
       "  <thead>\n",
       "    <tr style=\"text-align: right;\">\n",
       "      <th></th>\n",
       "      <th>ATP</th>\n",
       "      <th>Best of</th>\n",
       "      <th>WRank</th>\n",
       "      <th>LRank</th>\n",
       "      <th>Wsets</th>\n",
       "      <th>Lsets</th>\n",
       "      <th>PSW</th>\n",
       "      <th>PSL</th>\n",
       "      <th>B365W</th>\n",
       "      <th>B365L</th>\n",
       "      <th>elo_winner</th>\n",
       "      <th>elo_loser</th>\n",
       "      <th>proba_elo</th>\n",
       "    </tr>\n",
       "  </thead>\n",
       "  <tbody>\n",
       "    <tr>\n",
       "      <th>count</th>\n",
       "      <td>44105.000000</td>\n",
       "      <td>44105.000000</td>\n",
       "      <td>44105.000000</td>\n",
       "      <td>44105.000000</td>\n",
       "      <td>44105.000000</td>\n",
       "      <td>44105.000000</td>\n",
       "      <td>44105.000000</td>\n",
       "      <td>44105.000000</td>\n",
       "      <td>44105.000000</td>\n",
       "      <td>44105.000000</td>\n",
       "      <td>44105.000000</td>\n",
       "      <td>44105.000000</td>\n",
       "      <td>44105.000000</td>\n",
       "    </tr>\n",
       "    <tr>\n",
       "      <th>mean</th>\n",
       "      <td>32.808094</td>\n",
       "      <td>3.374878</td>\n",
       "      <td>58.849609</td>\n",
       "      <td>92.647591</td>\n",
       "      <td>2.187734</td>\n",
       "      <td>0.405555</td>\n",
       "      <td>1.942329</td>\n",
       "      <td>3.857635</td>\n",
       "      <td>1.866542</td>\n",
       "      <td>3.396950</td>\n",
       "      <td>1684.919086</td>\n",
       "      <td>1609.845174</td>\n",
       "      <td>0.585322</td>\n",
       "    </tr>\n",
       "    <tr>\n",
       "      <th>std</th>\n",
       "      <td>18.174112</td>\n",
       "      <td>0.780536</td>\n",
       "      <td>74.324096</td>\n",
       "      <td>122.604814</td>\n",
       "      <td>0.390504</td>\n",
       "      <td>0.557521</td>\n",
       "      <td>1.238314</td>\n",
       "      <td>5.087951</td>\n",
       "      <td>1.060013</td>\n",
       "      <td>3.310709</td>\n",
       "      <td>179.529714</td>\n",
       "      <td>137.992795</td>\n",
       "      <td>0.198344</td>\n",
       "    </tr>\n",
       "    <tr>\n",
       "      <th>min</th>\n",
       "      <td>1.000000</td>\n",
       "      <td>3.000000</td>\n",
       "      <td>0.000000</td>\n",
       "      <td>0.000000</td>\n",
       "      <td>2.000000</td>\n",
       "      <td>0.000000</td>\n",
       "      <td>1.000000</td>\n",
       "      <td>1.010000</td>\n",
       "      <td>1.000000</td>\n",
       "      <td>1.002000</td>\n",
       "      <td>1318.945207</td>\n",
       "      <td>1327.551888</td>\n",
       "      <td>0.008899</td>\n",
       "    </tr>\n",
       "    <tr>\n",
       "      <th>25%</th>\n",
       "      <td>19.000000</td>\n",
       "      <td>3.000000</td>\n",
       "      <td>17.000000</td>\n",
       "      <td>35.000000</td>\n",
       "      <td>2.000000</td>\n",
       "      <td>0.000000</td>\n",
       "      <td>1.316273</td>\n",
       "      <td>1.806000</td>\n",
       "      <td>1.280000</td>\n",
       "      <td>1.723615</td>\n",
       "      <td>1549.365125</td>\n",
       "      <td>1502.769686</td>\n",
       "      <td>0.447849</td>\n",
       "    </tr>\n",
       "    <tr>\n",
       "      <th>50%</th>\n",
       "      <td>32.000000</td>\n",
       "      <td>3.000000</td>\n",
       "      <td>41.000000</td>\n",
       "      <td>65.000000</td>\n",
       "      <td>2.000000</td>\n",
       "      <td>0.000000</td>\n",
       "      <td>1.620000</td>\n",
       "      <td>2.510000</td>\n",
       "      <td>1.570000</td>\n",
       "      <td>2.421693</td>\n",
       "      <td>1653.375418</td>\n",
       "      <td>1582.027444</td>\n",
       "      <td>0.588724</td>\n",
       "    </tr>\n",
       "    <tr>\n",
       "      <th>75%</th>\n",
       "      <td>49.000000</td>\n",
       "      <td>3.000000</td>\n",
       "      <td>77.000000</td>\n",
       "      <td>105.000000</td>\n",
       "      <td>2.000000</td>\n",
       "      <td>1.000000</td>\n",
       "      <td>2.160000</td>\n",
       "      <td>3.850000</td>\n",
       "      <td>2.100000</td>\n",
       "      <td>3.750000</td>\n",
       "      <td>1781.501807</td>\n",
       "      <td>1685.381101</td>\n",
       "      <td>0.736251</td>\n",
       "    </tr>\n",
       "    <tr>\n",
       "      <th>max</th>\n",
       "      <td>69.000000</td>\n",
       "      <td>5.000000</td>\n",
       "      <td>2000.000000</td>\n",
       "      <td>2000.000000</td>\n",
       "      <td>3.000000</td>\n",
       "      <td>2.000000</td>\n",
       "      <td>46.000000</td>\n",
       "      <td>121.000000</td>\n",
       "      <td>29.000000</td>\n",
       "      <td>101.000000</td>\n",
       "      <td>2392.408923</td>\n",
       "      <td>2392.595567</td>\n",
       "      <td>0.995601</td>\n",
       "    </tr>\n",
       "  </tbody>\n",
       "</table>\n",
       "</div>"
      ],
      "text/plain": [
       "                ATP       Best of         WRank         LRank         Wsets  \\\n",
       "count  44105.000000  44105.000000  44105.000000  44105.000000  44105.000000   \n",
       "mean      32.808094      3.374878     58.849609     92.647591      2.187734   \n",
       "std       18.174112      0.780536     74.324096    122.604814      0.390504   \n",
       "min        1.000000      3.000000      0.000000      0.000000      2.000000   \n",
       "25%       19.000000      3.000000     17.000000     35.000000      2.000000   \n",
       "50%       32.000000      3.000000     41.000000     65.000000      2.000000   \n",
       "75%       49.000000      3.000000     77.000000    105.000000      2.000000   \n",
       "max       69.000000      5.000000   2000.000000   2000.000000      3.000000   \n",
       "\n",
       "              Lsets           PSW           PSL         B365W         B365L  \\\n",
       "count  44105.000000  44105.000000  44105.000000  44105.000000  44105.000000   \n",
       "mean       0.405555      1.942329      3.857635      1.866542      3.396950   \n",
       "std        0.557521      1.238314      5.087951      1.060013      3.310709   \n",
       "min        0.000000      1.000000      1.010000      1.000000      1.002000   \n",
       "25%        0.000000      1.316273      1.806000      1.280000      1.723615   \n",
       "50%        0.000000      1.620000      2.510000      1.570000      2.421693   \n",
       "75%        1.000000      2.160000      3.850000      2.100000      3.750000   \n",
       "max        2.000000     46.000000    121.000000     29.000000    101.000000   \n",
       "\n",
       "         elo_winner     elo_loser     proba_elo  \n",
       "count  44105.000000  44105.000000  44105.000000  \n",
       "mean    1684.919086   1609.845174      0.585322  \n",
       "std      179.529714    137.992795      0.198344  \n",
       "min     1318.945207   1327.551888      0.008899  \n",
       "25%     1549.365125   1502.769686      0.447849  \n",
       "50%     1653.375418   1582.027444      0.588724  \n",
       "75%     1781.501807   1685.381101      0.736251  \n",
       "max     2392.408923   2392.595567      0.995601  "
      ]
     },
     "execution_count": 22,
     "metadata": {},
     "output_type": "execute_result"
    }
   ],
   "source": [
    "numeric = df.select_dtypes(include=['int', 'float'])\n",
    "numeric.describe()"
   ]
  },
  {
   "cell_type": "markdown",
   "id": "ba8a2a02",
   "metadata": {},
   "source": [
    "Les valeurs numeriques ne semblent pas contenir de valeurs aberrantes si ce n'est le calssement ATP à 0. A quoi correspond-il, peut être à un joueur non classé à l'ATP, nous utiliserons de toutes facons, le classement ATP fournit par la seconde base."
   ]
  },
  {
   "cell_type": "code",
   "execution_count": 24,
   "id": "8a63a74a",
   "metadata": {},
   "outputs": [
    {
     "data": {
      "text/plain": [
       "<Figure size 720x504 with 0 Axes>"
      ]
     },
     "metadata": {},
     "output_type": "display_data"
    },
    {
     "data": {
      "image/png": "[encoded data removed]",
      "text/plain": [
       "<Figure size 425x360 with 1 Axes>"
      ]
     },
     "metadata": {},
     "output_type": "display_data"
    },
    {
     "data": {
      "image/png": "[encoded data removed]",
      "text/plain": [
       "<Figure size 429x360 with 1 Axes>"
      ]
     },
     "metadata": {},
     "output_type": "display_data"
    }
   ],
   "source": [
    "#affichage de la distribution des cotes Loser et Winner de Pinnacle et B365\n",
    "fig = plt.figure(figsize=(10, 7))\n",
    "\n",
    "ax1 = sns.displot(df[['PSL', \"B365L\"]],bins = 1000, kde = True)\n",
    "plt.xlim(1,5)\n",
    "plt.title(\"Loser odds distribution (clean data)\")\n",
    "plt.xlabel(\"odds\")\n",
    "plt.show();\n",
    "\n",
    "ax2 = sns.displot(df[['PSW', \"B365W\"]],bins = 1000, kde = True)\n",
    "plt.xlim(1,5)\n",
    "plt.title(\"Winner odds distribution (clean data)\")\n",
    "plt.xlabel(\"odds\")\n",
    "plt.show();"
   ]
  },
  {
   "cell_type": "markdown",
   "id": "97c778a6",
   "metadata": {},
   "source": [
    "les pics dans la distributions B365W et B365L proviennent peut être du traitement des data, ou alors il s 'agit d'une spécificité de B365.\n",
    "En moyenne sur l'interval 1, 5 les distributions se comportent de manières similaires bien que B365 semble coter légèrement plus de perdant sur l'interval 1, 5"
   ]
  },
  {
   "cell_type": "code",
   "execution_count": 25,
   "id": "c7150837",
   "metadata": {},
   "outputs": [],
   "source": [
    "#Nous allons vérifier si la distribution des cotes B365W est similaire avt le traitement des data\n",
    "path = \"..\\\\Data\\\\atp_data.csv\"\n",
    "df_verif = pd.read_csv(path, sep =\",\",index_col = 0)"
   ]
  },
  {
   "cell_type": "code",
   "execution_count": 26,
   "id": "822da2c8",
   "metadata": {},
   "outputs": [],
   "source": [
    "#On drop toutes les valeurs avec des NaN\n",
    "df_verif = df_verif.dropna(axis = 0, how = \"any\")"
   ]
  },
  {
   "cell_type": "code",
   "execution_count": 27,
   "id": "624ca19d",
   "metadata": {},
   "outputs": [
    {
     "data": {
      "text/plain": [
       "<Figure size 720x504 with 0 Axes>"
      ]
     },
     "metadata": {},
     "output_type": "display_data"
    },
    {
     "data": {
      "image/png": "[encoded data removed]",
      "text/plain": [
       "<Figure size 425x360 with 1 Axes>"
      ]
     },
     "metadata": {},
     "output_type": "display_data"
    },
    {
     "data": {
      "image/png": "[encoded data removed]",
      "text/plain": [
       "<Figure size 429x360 with 1 Axes>"
      ]
     },
     "metadata": {},
     "output_type": "display_data"
    }
   ],
   "source": [
    "#affichage de la distribution des cotes Loser et Winner de Pinnacle et B365 sans retraitement des données :\n",
    "fig = plt.figure(figsize=(10, 7))\n",
    "\n",
    "ax1 = sns.displot(df_verif[['PSL', \"B365L\"]],bins = 1000, kde = True)\n",
    "plt.xlim(1,5)\n",
    "plt.title(\"Loser odds distribution (raw data)\")\n",
    "plt.xlabel(\"odds\")\n",
    "plt.show();\n",
    "\n",
    "ax2 = sns.displot(df_verif[['PSW', \"B365W\"]],bins = 1000, kde = True)\n",
    "plt.xlim(1,5)\n",
    "plt.title(\"Winner odds distribution (raw data)\")\n",
    "plt.xlabel(\"odds\")\n",
    "plt.show();"
   ]
  },
  {
   "cell_type": "markdown",
   "id": "2ae483af",
   "metadata": {},
   "source": [
    "Sans traitement préalable des data B365 il semblerait que les cotes B365 soient réparties de manières très discontinues \n",
    "alors que les cotes Pinnacle semblent avoir une répartition continues."
   ]
  },
  {
   "cell_type": "code",
   "execution_count": 28,
   "id": "123646f9",
   "metadata": {
    "scrolled": false
   },
   "outputs": [
    {
     "name": "stdout",
     "output_type": "stream",
     "text": [
      "131 valeurs uniques dans B365W\n",
      "1173 valeurs uniques dans PSW\n"
     ]
    }
   ],
   "source": [
    "print(len(np.unique(df_verif[\"B365W\"])), \"valeurs uniques dans B365W\")\n",
    "print(len(np.unique(df_verif[\"PSW\"])), \"valeurs uniques dans PSW\")"
   ]
  },
  {
   "cell_type": "markdown",
   "id": "eda1d74e",
   "metadata": {},
   "source": [
    "la distribution de B365W avt traitement présente en effet environ 10 fois moins de valeur unique que celle de Pinnacle"
   ]
  },
  {
   "cell_type": "markdown",
   "id": "c6a877b1",
   "metadata": {},
   "source": [
    "Etudions la distribution des rapports de cotes entre les deux bookmakers."
   ]
  },
  {
   "cell_type": "code",
   "execution_count": 25,
   "id": "b514ca9f",
   "metadata": {},
   "outputs": [],
   "source": [
    "#On rajoute deux colonnes delta cote : (Pinnacle / B365) Looser et Winner\n",
    "df['DeltaW'] = df[\"PSW\"] / df[\"B365W\"]\n",
    "df['DeltaL'] = df[\"PSL\"] / df[\"B365L\"]"
   ]
  },
  {
   "cell_type": "code",
   "execution_count": 26,
   "id": "43d8d23e",
   "metadata": {},
   "outputs": [
    {
     "data": {
      "text/plain": [
       "<Figure size 720x504 with 0 Axes>"
      ]
     },
     "metadata": {},
     "output_type": "display_data"
    },
    {
     "data": {
      "image/png": "[encoded data removed]",
      "text/plain": [
       "<Figure size 360x360 with 1 Axes>"
      ]
     },
     "metadata": {},
     "output_type": "display_data"
    },
    {
     "data": {
      "image/png": "[encoded data removed]",
      "text/plain": [
       "<Figure size 360x360 with 1 Axes>"
      ]
     },
     "metadata": {},
     "output_type": "display_data"
    }
   ],
   "source": [
    "#affichage de la distribution du rapport des cotes Loser et Winner de Pinnacle et B365 sans retraitement des données :\n",
    "fig = plt.figure(figsize=(10, 7))\n",
    "\n",
    "sns.displot(df[\"DeltaW\"], bins = 2000, kde = True)\n",
    "plt.xlim(1,1.4)\n",
    "plt.ylim(0,3000)\n",
    "plt.title(\"Pinnacle_Winner_odds / B365_Loser_Winner_distribution\")\n",
    "plt.xlabel(\"odds report\")\n",
    "plt.show();\n",
    "\n",
    "sns.displot(df[\"DeltaL\"], kde = True, color = \"green\")\n",
    "plt.xlim(1,1.4)\n",
    "plt.ylim(0,1500)\n",
    "plt.title(\"Pinnacle_Loser_odds / B365_Loser_odds distribution\")\n",
    "plt.xlabel(\"odds report\")\n",
    "plt.show();\n"
   ]
  },
  {
   "cell_type": "markdown",
   "id": "e343a465",
   "metadata": {},
   "source": [
    "La majorité des cotes sont semblables entre les deux bookmakers, étudions néanmoins les queues de distributions :"
   ]
  },
  {
   "cell_type": "code",
   "execution_count": 27,
   "id": "5a8acb16",
   "metadata": {},
   "outputs": [
    {
     "data": {
      "text/plain": [
       "count    44105.000000\n",
       "mean         1.068758\n",
       "std          0.246873\n",
       "min          0.095455\n",
       "25%          1.000000\n",
       "50%          1.029825\n",
       "75%          1.086275\n",
       "max         38.571429\n",
       "Name: DeltaL, dtype: float64"
      ]
     },
     "execution_count": 27,
     "metadata": {},
     "output_type": "execute_result"
    }
   ],
   "source": [
    "df[\"DeltaL\"].describe()"
   ]
  },
  {
   "cell_type": "code",
   "execution_count": 28,
   "id": "911a256f",
   "metadata": {},
   "outputs": [
    {
     "data": {
      "text/plain": [
       "count    44105.000000\n",
       "mean         1.034037\n",
       "std          0.087907\n",
       "min          0.364750\n",
       "25%          1.000000\n",
       "50%          1.019802\n",
       "75%          1.055340\n",
       "max         14.705882\n",
       "Name: DeltaW, dtype: float64"
      ]
     },
     "execution_count": 28,
     "metadata": {},
     "output_type": "execute_result"
    }
   ],
   "source": [
    "df[\"DeltaW\"].describe()"
   ]
  },
  {
   "cell_type": "markdown",
   "id": "43c84748",
   "metadata": {},
   "source": [
    "Remarque 1) les min/max différences sur les cotes Loser sont très élevés, il faudrait vérifier cela\n",
    "\n",
    "Remarque 2) Pinnacle cote légèrement plus aggressif que B365"
   ]
  },
  {
   "cell_type": "code",
   "execution_count": 33,
   "id": "fd888773",
   "metadata": {},
   "outputs": [
    {
     "data": {
      "text/html": [
       "<div>\n",
       "<style scoped>\n",
       "    .dataframe tbody tr th:only-of-type {\n",
       "        vertical-align: middle;\n",
       "    }\n",
       "\n",
       "    .dataframe tbody tr th {\n",
       "        vertical-align: top;\n",
       "    }\n",
       "\n",
       "    .dataframe thead th {\n",
       "        text-align: right;\n",
       "    }\n",
       "</style>\n",
       "<table border=\"1\" class=\"dataframe\">\n",
       "  <thead>\n",
       "    <tr style=\"text-align: right;\">\n",
       "      <th></th>\n",
       "      <th>ATP</th>\n",
       "      <th>Location</th>\n",
       "      <th>Tournament</th>\n",
       "      <th>Date</th>\n",
       "      <th>Series</th>\n",
       "      <th>Court</th>\n",
       "      <th>Surface</th>\n",
       "      <th>Round</th>\n",
       "      <th>Best of</th>\n",
       "      <th>Winner</th>\n",
       "      <th>...</th>\n",
       "      <th>Comment</th>\n",
       "      <th>PSW</th>\n",
       "      <th>PSL</th>\n",
       "      <th>B365W</th>\n",
       "      <th>B365L</th>\n",
       "      <th>elo_winner</th>\n",
       "      <th>elo_loser</th>\n",
       "      <th>proba_elo</th>\n",
       "      <th>DeltaW</th>\n",
       "      <th>DeltaL</th>\n",
       "    </tr>\n",
       "  </thead>\n",
       "  <tbody>\n",
       "    <tr>\n",
       "      <th>8848</th>\n",
       "      <td>6</td>\n",
       "      <td>Melbourne</td>\n",
       "      <td>Australian Open</td>\n",
       "      <td>2004-01-19</td>\n",
       "      <td>Grand Slam</td>\n",
       "      <td>Outdoor</td>\n",
       "      <td>Hard</td>\n",
       "      <td>1st Round</td>\n",
       "      <td>5</td>\n",
       "      <td>Agassi A.</td>\n",
       "      <td>...</td>\n",
       "      <td>Completed</td>\n",
       "      <td>1.029</td>\n",
       "      <td>23.50</td>\n",
       "      <td>1.020</td>\n",
       "      <td>11.0</td>\n",
       "      <td>1893.417278</td>\n",
       "      <td>1473.218210</td>\n",
       "      <td>0.918254</td>\n",
       "      <td>1.008824</td>\n",
       "      <td>2.136364</td>\n",
       "    </tr>\n",
       "    <tr>\n",
       "      <th>8879</th>\n",
       "      <td>6</td>\n",
       "      <td>Melbourne</td>\n",
       "      <td>Australian Open</td>\n",
       "      <td>2004-01-20</td>\n",
       "      <td>Grand Slam</td>\n",
       "      <td>Outdoor</td>\n",
       "      <td>Hard</td>\n",
       "      <td>1st Round</td>\n",
       "      <td>5</td>\n",
       "      <td>Hewitt L.</td>\n",
       "      <td>...</td>\n",
       "      <td>Retired</td>\n",
       "      <td>1.032</td>\n",
       "      <td>22.00</td>\n",
       "      <td>1.030</td>\n",
       "      <td>10.0</td>\n",
       "      <td>1846.119368</td>\n",
       "      <td>1367.712854</td>\n",
       "      <td>0.940135</td>\n",
       "      <td>1.001942</td>\n",
       "      <td>2.200000</td>\n",
       "    </tr>\n",
       "    <tr>\n",
       "      <th>8880</th>\n",
       "      <td>6</td>\n",
       "      <td>Melbourne</td>\n",
       "      <td>Australian Open</td>\n",
       "      <td>2004-01-20</td>\n",
       "      <td>Grand Slam</td>\n",
       "      <td>Outdoor</td>\n",
       "      <td>Hard</td>\n",
       "      <td>1st Round</td>\n",
       "      <td>5</td>\n",
       "      <td>Nalbandian D.</td>\n",
       "      <td>...</td>\n",
       "      <td>Completed</td>\n",
       "      <td>1.041</td>\n",
       "      <td>18.50</td>\n",
       "      <td>1.040</td>\n",
       "      <td>9.0</td>\n",
       "      <td>1825.688066</td>\n",
       "      <td>1486.040989</td>\n",
       "      <td>0.876009</td>\n",
       "      <td>1.000962</td>\n",
       "      <td>2.055556</td>\n",
       "    </tr>\n",
       "    <tr>\n",
       "      <th>8916</th>\n",
       "      <td>6</td>\n",
       "      <td>Melbourne</td>\n",
       "      <td>Australian Open</td>\n",
       "      <td>2004-01-22</td>\n",
       "      <td>Grand Slam</td>\n",
       "      <td>Outdoor</td>\n",
       "      <td>Hard</td>\n",
       "      <td>2nd Round</td>\n",
       "      <td>5</td>\n",
       "      <td>Federer R.</td>\n",
       "      <td>...</td>\n",
       "      <td>Completed</td>\n",
       "      <td>1.036</td>\n",
       "      <td>21.00</td>\n",
       "      <td>1.030</td>\n",
       "      <td>10.0</td>\n",
       "      <td>1958.707641</td>\n",
       "      <td>1493.289079</td>\n",
       "      <td>0.935786</td>\n",
       "      <td>1.005825</td>\n",
       "      <td>2.100000</td>\n",
       "    </tr>\n",
       "    <tr>\n",
       "      <th>9021</th>\n",
       "      <td>8</td>\n",
       "      <td>San Jose</td>\n",
       "      <td>Siebel Open</td>\n",
       "      <td>2004-02-12</td>\n",
       "      <td>International</td>\n",
       "      <td>Indoor</td>\n",
       "      <td>Hard</td>\n",
       "      <td>1st Round</td>\n",
       "      <td>3</td>\n",
       "      <td>Roddick A.</td>\n",
       "      <td>...</td>\n",
       "      <td>Completed</td>\n",
       "      <td>1.030</td>\n",
       "      <td>24.11</td>\n",
       "      <td>1.040</td>\n",
       "      <td>9.0</td>\n",
       "      <td>1907.462339</td>\n",
       "      <td>1426.063959</td>\n",
       "      <td>0.941097</td>\n",
       "      <td>0.990385</td>\n",
       "      <td>2.678889</td>\n",
       "    </tr>\n",
       "    <tr>\n",
       "      <th>9035</th>\n",
       "      <td>8</td>\n",
       "      <td>San Jose</td>\n",
       "      <td>Siebel Open</td>\n",
       "      <td>2004-02-13</td>\n",
       "      <td>International</td>\n",
       "      <td>Indoor</td>\n",
       "      <td>Hard</td>\n",
       "      <td>2nd Round</td>\n",
       "      <td>3</td>\n",
       "      <td>Roddick A.</td>\n",
       "      <td>...</td>\n",
       "      <td>Completed</td>\n",
       "      <td>1.041</td>\n",
       "      <td>18.13</td>\n",
       "      <td>1.050</td>\n",
       "      <td>8.5</td>\n",
       "      <td>1909.347239</td>\n",
       "      <td>1504.803214</td>\n",
       "      <td>0.911230</td>\n",
       "      <td>0.991429</td>\n",
       "      <td>2.132941</td>\n",
       "    </tr>\n",
       "    <tr>\n",
       "      <th>9042</th>\n",
       "      <td>8</td>\n",
       "      <td>San Jose</td>\n",
       "      <td>Siebel Open</td>\n",
       "      <td>2004-02-14</td>\n",
       "      <td>International</td>\n",
       "      <td>Indoor</td>\n",
       "      <td>Hard</td>\n",
       "      <td>Semifinals</td>\n",
       "      <td>3</td>\n",
       "      <td>Roddick A.</td>\n",
       "      <td>...</td>\n",
       "      <td>Completed</td>\n",
       "      <td>1.053</td>\n",
       "      <td>16.30</td>\n",
       "      <td>1.063</td>\n",
       "      <td>8.0</td>\n",
       "      <td>1912.187889</td>\n",
       "      <td>1525.059929</td>\n",
       "      <td>0.902779</td>\n",
       "      <td>0.990593</td>\n",
       "      <td>2.037500</td>\n",
       "    </tr>\n",
       "    <tr>\n",
       "      <th>10204</th>\n",
       "      <td>35</td>\n",
       "      <td>London</td>\n",
       "      <td>Wimbledon</td>\n",
       "      <td>2004-06-21</td>\n",
       "      <td>Grand Slam</td>\n",
       "      <td>Outdoor</td>\n",
       "      <td>Grass</td>\n",
       "      <td>1st Round</td>\n",
       "      <td>5</td>\n",
       "      <td>Federer R.</td>\n",
       "      <td>...</td>\n",
       "      <td>Completed</td>\n",
       "      <td>1.024</td>\n",
       "      <td>28.50</td>\n",
       "      <td>1.015</td>\n",
       "      <td>12.0</td>\n",
       "      <td>2032.238847</td>\n",
       "      <td>1477.845796</td>\n",
       "      <td>0.960507</td>\n",
       "      <td>1.008867</td>\n",
       "      <td>2.375000</td>\n",
       "    </tr>\n",
       "    <tr>\n",
       "      <th>10223</th>\n",
       "      <td>35</td>\n",
       "      <td>London</td>\n",
       "      <td>Wimbledon</td>\n",
       "      <td>2004-06-22</td>\n",
       "      <td>Grand Slam</td>\n",
       "      <td>Outdoor</td>\n",
       "      <td>Grass</td>\n",
       "      <td>1st Round</td>\n",
       "      <td>5</td>\n",
       "      <td>Henman T.</td>\n",
       "      <td>...</td>\n",
       "      <td>Completed</td>\n",
       "      <td>1.025</td>\n",
       "      <td>28.50</td>\n",
       "      <td>1.010</td>\n",
       "      <td>13.0</td>\n",
       "      <td>1784.116776</td>\n",
       "      <td>1378.999750</td>\n",
       "      <td>0.911496</td>\n",
       "      <td>1.014851</td>\n",
       "      <td>2.192308</td>\n",
       "    </tr>\n",
       "    <tr>\n",
       "      <th>10247</th>\n",
       "      <td>35</td>\n",
       "      <td>London</td>\n",
       "      <td>Wimbledon</td>\n",
       "      <td>2004-06-24</td>\n",
       "      <td>Grand Slam</td>\n",
       "      <td>Outdoor</td>\n",
       "      <td>Grass</td>\n",
       "      <td>2nd Round</td>\n",
       "      <td>5</td>\n",
       "      <td>Federer R.</td>\n",
       "      <td>...</td>\n",
       "      <td>Completed</td>\n",
       "      <td>1.022</td>\n",
       "      <td>33.50</td>\n",
       "      <td>1.010</td>\n",
       "      <td>12.0</td>\n",
       "      <td>2033.502616</td>\n",
       "      <td>1521.078100</td>\n",
       "      <td>0.950252</td>\n",
       "      <td>1.011881</td>\n",
       "      <td>2.791667</td>\n",
       "    </tr>\n",
       "  </tbody>\n",
       "</table>\n",
       "<p>10 rows × 25 columns</p>\n",
       "</div>"
      ],
      "text/plain": [
       "       ATP   Location       Tournament        Date         Series    Court  \\\n",
       "8848     6  Melbourne  Australian Open  2004-01-19     Grand Slam  Outdoor   \n",
       "8879     6  Melbourne  Australian Open  2004-01-20     Grand Slam  Outdoor   \n",
       "8880     6  Melbourne  Australian Open  2004-01-20     Grand Slam  Outdoor   \n",
       "8916     6  Melbourne  Australian Open  2004-01-22     Grand Slam  Outdoor   \n",
       "9021     8   San Jose      Siebel Open  2004-02-12  International   Indoor   \n",
       "9035     8   San Jose      Siebel Open  2004-02-13  International   Indoor   \n",
       "9042     8   San Jose      Siebel Open  2004-02-14  International   Indoor   \n",
       "10204   35     London        Wimbledon  2004-06-21     Grand Slam  Outdoor   \n",
       "10223   35     London        Wimbledon  2004-06-22     Grand Slam  Outdoor   \n",
       "10247   35     London        Wimbledon  2004-06-24     Grand Slam  Outdoor   \n",
       "\n",
       "      Surface       Round  Best of         Winner  ...    Comment    PSW  \\\n",
       "8848     Hard   1st Round        5      Agassi A.  ...  Completed  1.029   \n",
       "8879     Hard   1st Round        5      Hewitt L.  ...    Retired  1.032   \n",
       "8880     Hard   1st Round        5  Nalbandian D.  ...  Completed  1.041   \n",
       "8916     Hard   2nd Round        5     Federer R.  ...  Completed  1.036   \n",
       "9021     Hard   1st Round        3     Roddick A.  ...  Completed  1.030   \n",
       "9035     Hard   2nd Round        3     Roddick A.  ...  Completed  1.041   \n",
       "9042     Hard  Semifinals        3     Roddick A.  ...  Completed  1.053   \n",
       "10204   Grass   1st Round        5     Federer R.  ...  Completed  1.024   \n",
       "10223   Grass   1st Round        5      Henman T.  ...  Completed  1.025   \n",
       "10247   Grass   2nd Round        5     Federer R.  ...  Completed  1.022   \n",
       "\n",
       "         PSL  B365W  B365L   elo_winner    elo_loser  proba_elo    DeltaW  \\\n",
       "8848   23.50  1.020   11.0  1893.417278  1473.218210   0.918254  1.008824   \n",
       "8879   22.00  1.030   10.0  1846.119368  1367.712854   0.940135  1.001942   \n",
       "8880   18.50  1.040    9.0  1825.688066  1486.040989   0.876009  1.000962   \n",
       "8916   21.00  1.030   10.0  1958.707641  1493.289079   0.935786  1.005825   \n",
       "9021   24.11  1.040    9.0  1907.462339  1426.063959   0.941097  0.990385   \n",
       "9035   18.13  1.050    8.5  1909.347239  1504.803214   0.911230  0.991429   \n",
       "9042   16.30  1.063    8.0  1912.187889  1525.059929   0.902779  0.990593   \n",
       "10204  28.50  1.015   12.0  2032.238847  1477.845796   0.960507  1.008867   \n",
       "10223  28.50  1.010   13.0  1784.116776  1378.999750   0.911496  1.014851   \n",
       "10247  33.50  1.010   12.0  2033.502616  1521.078100   0.950252  1.011881   \n",
       "\n",
       "         DeltaL  \n",
       "8848   2.136364  \n",
       "8879   2.200000  \n",
       "8880   2.055556  \n",
       "8916   2.100000  \n",
       "9021   2.678889  \n",
       "9035   2.132941  \n",
       "9042   2.037500  \n",
       "10204  2.375000  \n",
       "10223  2.192308  \n",
       "10247  2.791667  \n",
       "\n",
       "[10 rows x 25 columns]"
      ]
     },
     "execution_count": 33,
     "metadata": {},
     "output_type": "execute_result"
    }
   ],
   "source": [
    "df.loc[df[\"DeltaL\"] > 2 ].head(10)"
   ]
  },
  {
   "cell_type": "markdown",
   "id": "a0d4f95b",
   "metadata": {},
   "source": [
    "A première vu cela ne semble pas aberrant il s'agit de matchs de tournoi du grand schlem opposant des top5 à des joueurs très faibles. Notons tout de même l'aggressivité de Pinnacle sur ces rencontres. Sans doute dans le but d'attirer des parieurs qui joue les très grosses surprises."
   ]
  },
  {
   "cell_type": "markdown",
   "id": "b644c877",
   "metadata": {},
   "source": [
    "Voyons le nombre d'occurences ou la cote la plus élevée a été victorieuse, \n",
    "il s'agit de match où l'évènement sensé être le moins probable se réalise :"
   ]
  },
  {
   "cell_type": "code",
   "execution_count": 34,
   "id": "a7ee4e1d",
   "metadata": {},
   "outputs": [],
   "source": [
    "cote_max_v = df.loc[df[\"PSW\"] > df[\"PSL\"]]"
   ]
  },
  {
   "cell_type": "code",
   "execution_count": 35,
   "id": "ec12a8ca",
   "metadata": {},
   "outputs": [],
   "source": [
    "elo_max_v = df.loc[df[\"proba_elo\"] < 0.5]"
   ]
  },
  {
   "cell_type": "code",
   "execution_count": 36,
   "id": "463c6796",
   "metadata": {},
   "outputs": [
    {
     "name": "stdout",
     "output_type": "stream",
     "text": [
      "le joueur ayant la plus grande cote gagne dans 0.3121188073914522 des cas\n"
     ]
    }
   ],
   "source": [
    "print(\"le joueur ayant la plus grande cote gagne dans\", cote_max_v[\"PSW\"].count()/df.shape[0], \"des cas\")"
   ]
  },
  {
   "cell_type": "code",
   "execution_count": 37,
   "id": "c2f73a7a",
   "metadata": {},
   "outputs": [
    {
     "name": "stdout",
     "output_type": "stream",
     "text": [
      "le joueur ayant la plus grande cote gagne dans 0.337240675660356 des cas\n"
     ]
    }
   ],
   "source": [
    "print(\"le joueur ayant la plus grande cote gagne dans\", elo_max_v[\"PSW\"].count()/df.shape[0], \"des cas\")"
   ]
  },
  {
   "cell_type": "markdown",
   "id": "3fc6d555",
   "metadata": {},
   "source": [
    "Il y a quand même 31% des matchs qui ont donnés lieu a une \"surprise\" voyons la distribution de ces cotes"
   ]
  },
  {
   "cell_type": "code",
   "execution_count": 38,
   "id": "e2f8d5dd",
   "metadata": {},
   "outputs": [
    {
     "data": {
      "text/plain": [
       "count    13766.000000\n",
       "mean         3.049244\n",
       "std          1.727309\n",
       "min          1.740000\n",
       "25%          2.220000\n",
       "50%          2.560000\n",
       "75%          3.250568\n",
       "max         46.000000\n",
       "Name: PSW, dtype: float64"
      ]
     },
     "execution_count": 38,
     "metadata": {},
     "output_type": "execute_result"
    }
   ],
   "source": [
    "cote_max_v[\"PSW\"].describe()"
   ]
  },
  {
   "cell_type": "markdown",
   "id": "7793a333",
   "metadata": {},
   "source": [
    "On voit que ce sont des cotes autour de 2.5, et rarement supérieur a 4\n",
    "\n",
    "Cela laisse penser que les surprise arrive dans des matchs plutot équilibrés type :\n",
    "\n",
    "    Cote winner = 2.5\n",
    "    Cote loser = 1.5\n",
    "\n",
    "Voir ci-dessous la distribution des cotes Loser quand elles sont inferieures aux cotes Winner"
   ]
  },
  {
   "cell_type": "code",
   "execution_count": 39,
   "id": "96c1a8df",
   "metadata": {},
   "outputs": [
    {
     "data": {
      "text/plain": [
       "count    13766.000000\n",
       "mean         1.583348\n",
       "std          0.229252\n",
       "min          1.010000\n",
       "25%          1.409474\n",
       "50%          1.600000\n",
       "75%          1.769000\n",
       "max          1.999846\n",
       "Name: PSL, dtype: float64"
      ]
     },
     "execution_count": 39,
     "metadata": {},
     "output_type": "execute_result"
    }
   ],
   "source": [
    "cote_max_v[\"PSL\"].describe()"
   ]
  },
  {
   "cell_type": "markdown",
   "id": "43e074d7",
   "metadata": {},
   "source": [
    "Nous allons désormais exhiber deux modèles simples de paris:\n",
    "\n",
    "==> On mise systématiquement sur la plus faible cote: small\n",
    "\n",
    "==> Ou bien on mise systématiquement sur la plus forte cote: big"
   ]
  },
  {
   "cell_type": "code",
   "execution_count": 40,
   "id": "47e2f740",
   "metadata": {},
   "outputs": [
    {
     "name": "stderr",
     "output_type": "stream",
     "text": [
      "D:\\Olia\\Documents\\Papa\\Conda\\envs\\jupyter\\lib\\site-packages\\pandas\\core\\indexing.py:1732: SettingWithCopyWarning: \n",
      "A value is trying to be set on a copy of a slice from a DataFrame\n",
      "\n",
      "See the caveats in the documentation: https://pandas.pydata.org/pandas-docs/stable/user_guide/indexing.html#returning-a-view-versus-a-copy\n",
      "  self._setitem_single_block(indexer, value, name)\n"
     ]
    }
   ],
   "source": [
    "#jouer la cote la plus faible clean data\n",
    "\n",
    "df['gainP_small'] = df['PSW']\n",
    "df['gainB_small'] = df['PSW']\n",
    "\n",
    "#creation de la colonne gain pour les cotes pinnacle\n",
    "for i in range(df.shape[0]):\n",
    "    if df[\"PSW\"].iloc[i] < df[\"PSL\"].iloc[i]:\n",
    "        df[\"gainP_small\"].iloc[i] = df[\"PSW\"].iloc[i] - 1\n",
    "    else:\n",
    "        df[\"gainP_small\"].iloc[i] = -1\n",
    "        \n",
    "#creation de la colonne gain pour les cotes B365       \n",
    "for i in range(df.shape[0]):\n",
    "    if df[\"B365W\"].iloc[i] < df[\"B365L\"].iloc[i]:\n",
    "        df[\"gainB_small\"].iloc[i] = df[\"B365W\"].iloc[i] - 1\n",
    "    else:\n",
    "        df[\"gainB_small\"].iloc[i] = -1\n",
    "\n",
    "df[\"PnLP_small\"] = df[\"gainP_small\"].cumsum()\n",
    "df[\"PnLB_small\"] = df[\"gainB_small\"].cumsum()"
   ]
  },
  {
   "cell_type": "code",
   "execution_count": 41,
   "id": "dfaca7fb",
   "metadata": {},
   "outputs": [],
   "source": [
    "#jouer la cote la plus forte clean data\n",
    "\n",
    "df['gainP_big'] = df['PSW']\n",
    "df['gainB_big'] = df['PSW']\n",
    "\n",
    "#creation de la colonne gain pour les cotes pinnacle\n",
    "for i in range(df.shape[0]):\n",
    "    if df[\"PSW\"].iloc[i] > df[\"PSL\"].iloc[i]:\n",
    "        df[\"gainP_big\"].iloc[i] = df[\"PSW\"].iloc[i] - 1\n",
    "    else:\n",
    "        df[\"gainP_big\"].iloc[i] = -1\n",
    "        \n",
    "#creation de la colonne gain pour les cotes B365       \n",
    "for i in range(df.shape[0]):\n",
    "    if df[\"B365W\"].iloc[i] > df[\"B365L\"].iloc[i]:\n",
    "        df[\"gainB_big\"].iloc[i] = df[\"B365W\"].iloc[i] - 1\n",
    "    else:\n",
    "        df[\"gainB_big\"].iloc[i] = -1\n",
    "\n",
    "df[\"PnLP_big\"] = df[\"gainP_big\"].cumsum()\n",
    "df[\"PnLB_big\"] = df[\"gainB_big\"].cumsum()"
   ]
  },
  {
   "cell_type": "code",
   "execution_count": 42,
   "id": "1d21f5d3",
   "metadata": {},
   "outputs": [],
   "source": [
    "#jouer la cote la plus faible raw data\n",
    "\n",
    "df_verif['gainP_small'] = df_verif['PSW']\n",
    "df_verif['gainB_small'] = df_verif['PSW']\n",
    "\n",
    "#creation de la colonne gain pour les cotes pinnacle\n",
    "for i in range(df_verif.shape[0]):\n",
    "    if df_verif[\"PSW\"].iloc[i] < df_verif[\"PSL\"].iloc[i]:\n",
    "        df_verif[\"gainP_small\"].iloc[i] = df_verif[\"PSW\"].iloc[i] - 1\n",
    "    else:\n",
    "        df_verif[\"gainP_small\"].iloc[i] = -1\n",
    "        \n",
    "#creation de la colonne gain pour les cotes B365       \n",
    "for i in range(df_verif.shape[0]):\n",
    "    if df_verif[\"B365W\"].iloc[i] < df_verif[\"B365L\"].iloc[i]:\n",
    "        df_verif[\"gainB_small\"].iloc[i] = df_verif[\"B365W\"].iloc[i] - 1\n",
    "    else:\n",
    "        df_verif[\"gainB_small\"].iloc[i] = -1\n",
    "\n",
    "df_verif[\"PnLP_small\"] = df_verif[\"gainP_small\"].cumsum()\n",
    "df_verif[\"PnLB_small\"] = df_verif[\"gainB_small\"].cumsum()"
   ]
  },
  {
   "cell_type": "code",
   "execution_count": 43,
   "id": "fa14e0a1",
   "metadata": {},
   "outputs": [],
   "source": [
    "#jouer la cote la plus forte clean data\n",
    "\n",
    "df_verif['gainP_big'] = df_verif['PSW']\n",
    "df_verif['gainB_big'] = df_verif['PSW']\n",
    "\n",
    "#creation de la colonne gain pour les cotes pinnacle\n",
    "for i in range(df_verif.shape[0]):\n",
    "    if df_verif[\"PSW\"].iloc[i] > df_verif[\"PSL\"].iloc[i]:\n",
    "        df_verif[\"gainP_big\"].iloc[i] = df_verif[\"PSW\"].iloc[i] - 1\n",
    "    else:\n",
    "        df_verif[\"gainP_big\"].iloc[i] = -1\n",
    "        \n",
    "#creation de la colonne gain pour les cotes B365       \n",
    "for i in range(df_verif.shape[0]):\n",
    "    if df_verif[\"B365W\"].iloc[i] > df_verif[\"B365L\"].iloc[i]:\n",
    "        df_verif[\"gainB_big\"].iloc[i] = df_verif[\"B365W\"].iloc[i] - 1\n",
    "    else:\n",
    "        df_verif[\"gainB_big\"].iloc[i] = -1\n",
    "\n",
    "df_verif[\"PnLP_big\"] = df_verif[\"gainP_big\"].cumsum()\n",
    "df_verif[\"PnLB_big\"] = df_verif[\"gainB_big\"].cumsum()"
   ]
  },
  {
   "cell_type": "code",
   "execution_count": 44,
   "id": "bfd625bd",
   "metadata": {},
   "outputs": [
    {
     "data": {
      "image/png": "[encoded data removed]",
      "text/plain": [
       "<Figure size 720x360 with 2 Axes>"
      ]
     },
     "metadata": {},
     "output_type": "display_data"
    }
   ],
   "source": [
    "## Insérez votre code ici\n",
    "fig = plt.figure(figsize = (10,5))\n",
    "ax1 = fig.add_subplot(121)\n",
    "\n",
    "t = ax1.set_title(\"Jouer la cote clean data\", fontsize = 11)\n",
    "\n",
    "ax1.plot(df[\"Date\"], df[\"PnLP_small\"],\"g\", label = \"Pinnacle small\")\n",
    "ax1.plot(df[\"Date\"], df[\"PnLB_small\"],\"yellow\", label = \"B365 small\")\n",
    "ax1.plot(df[\"Date\"], df[\"PnLP_big\"],\"c\", label = \"Pinnacle big\")\n",
    "ax1.plot(df[\"Date\"], df[\"PnLB_big\"],\"red\", label = \"B365 big\")\n",
    "\n",
    "locs_x, labels_x = plt.xticks()\n",
    "locs_y, labels_y = plt.yticks()\n",
    "loc_x_new = np.arange(locs_x[0], locs_x[-1], step = 1000)\n",
    "plt.xticks(loc_x_new)\n",
    "\n",
    "plt.xticks(fontsize = 8)\n",
    "plt.yticks(fontsize = 8)\n",
    "\n",
    "ax2 = fig.add_subplot(122)\n",
    "\n",
    "t = ax2.set_title(\"Jouer la cote raw data\", fontsize = 11)\n",
    "\n",
    "ax2.plot(df_verif[\"Date\"], df_verif[\"PnLP_small\"],\"g\", label = \"Pinnacle small\")\n",
    "ax2.plot(df_verif[\"Date\"], df_verif[\"PnLB_small\"],\"yellow\", label = \"B365 small\")\n",
    "ax2.plot(df_verif[\"Date\"], df_verif[\"PnLP_big\"],\"c\", label = \"Pinnacle big\")\n",
    "ax2.plot(df_verif[\"Date\"], df_verif[\"PnLB_big\"],\"red\", label = \"B365 big\")\n",
    "\n",
    "locs_x, labels_x = plt.xticks()\n",
    "locs_y, labels_y = plt.yticks()\n",
    "loc_x_new = np.arange(locs_x[0], locs_x[-1], step = 1000)\n",
    "plt.xticks(loc_x_new)\n",
    "\n",
    "plt.xticks(fontsize = 8)\n",
    "plt.yticks(fontsize = 8)\n",
    "\n",
    "ax1.legend(loc = \"lower left\",  fontsize = 10);\n",
    "ax2.legend(loc = \"lower left\", fontsize = 10);\n",
    "#il faudra retravailler les dates"
   ]
  },
  {
   "cell_type": "markdown",
   "id": "6e86eea1",
   "metadata": {},
   "source": [
    "Les profils sont similaires on peut donc légitimement penser que les remplissages de cotes vides n'affectent pas la consistance global des données. On peut néanmoins se demander si le plat 2008-2009 chez B365 n'est pas un artefact du au fait que l'on joue en fait le classement elo. l'accident aux alentours de 2009 semble provenir aussi du retraitement de la cote. "
   ]
  },
  {
   "cell_type": "code",
   "execution_count": 47,
   "id": "dcd2c944",
   "metadata": {},
   "outputs": [
    {
     "data": {
      "text/plain": [
       "(0.9754642705428228, 0.0)"
      ]
     },
     "execution_count": 47,
     "metadata": {},
     "output_type": "execute_result"
    }
   ],
   "source": [
    "from scipy.stats import pearsonr\n",
    "pearsonr(df['PSW'],df[\"B365W\"])"
   ]
  },
  {
   "cell_type": "code",
   "execution_count": 48,
   "id": "c32b381e",
   "metadata": {},
   "outputs": [
    {
     "data": {
      "text/plain": [
       "(0.8958159757041179, 0.0)"
      ]
     },
     "execution_count": 48,
     "metadata": {},
     "output_type": "execute_result"
    }
   ],
   "source": [
    "from scipy.stats import pearsonr\n",
    "pearsonr(df['PSL'],df[\"B365L\"])"
   ]
  },
  {
   "cell_type": "code",
   "execution_count": 49,
   "id": "a03a43b2",
   "metadata": {},
   "outputs": [
    {
     "data": {
      "text/plain": [
       "(0.7538665642790896, 0.0)"
      ]
     },
     "execution_count": 49,
     "metadata": {},
     "output_type": "execute_result"
    }
   ],
   "source": [
    "from scipy.stats import pearsonr\n",
    "pearsonr(df['PSW'],1/df[\"proba_elo\"])"
   ]
  },
  {
   "cell_type": "code",
   "execution_count": 50,
   "id": "5928d677",
   "metadata": {},
   "outputs": [
    {
     "data": {
      "text/plain": [
       "(0.7623714165354378, 0.0)"
      ]
     },
     "execution_count": 50,
     "metadata": {},
     "output_type": "execute_result"
    }
   ],
   "source": [
    "from scipy.stats import pearsonr\n",
    "pearsonr(df['B365W'],1/df[\"proba_elo\"])"
   ]
  },
  {
   "cell_type": "code",
   "execution_count": 51,
   "id": "332901dd",
   "metadata": {},
   "outputs": [
    {
     "data": {
      "text/html": [
       "<div>\n",
       "<style scoped>\n",
       "    .dataframe tbody tr th:only-of-type {\n",
       "        vertical-align: middle;\n",
       "    }\n",
       "\n",
       "    .dataframe tbody tr th {\n",
       "        vertical-align: top;\n",
       "    }\n",
       "\n",
       "    .dataframe thead th {\n",
       "        text-align: right;\n",
       "    }\n",
       "</style>\n",
       "<table border=\"1\" class=\"dataframe\">\n",
       "  <thead>\n",
       "    <tr style=\"text-align: right;\">\n",
       "      <th></th>\n",
       "      <th>PSW</th>\n",
       "      <th>B365W</th>\n",
       "      <th>PSL</th>\n",
       "      <th>B365L</th>\n",
       "      <th>proba_elo</th>\n",
       "    </tr>\n",
       "  </thead>\n",
       "  <tbody>\n",
       "    <tr>\n",
       "      <th>PSW</th>\n",
       "      <td>1.000000</td>\n",
       "      <td>0.975464</td>\n",
       "      <td>-0.285524</td>\n",
       "      <td>-0.349092</td>\n",
       "      <td>-0.645579</td>\n",
       "    </tr>\n",
       "    <tr>\n",
       "      <th>B365W</th>\n",
       "      <td>0.975464</td>\n",
       "      <td>1.000000</td>\n",
       "      <td>-0.308790</td>\n",
       "      <td>-0.380120</td>\n",
       "      <td>-0.694919</td>\n",
       "    </tr>\n",
       "    <tr>\n",
       "      <th>PSL</th>\n",
       "      <td>-0.285524</td>\n",
       "      <td>-0.308790</td>\n",
       "      <td>1.000000</td>\n",
       "      <td>0.895816</td>\n",
       "      <td>0.514963</td>\n",
       "    </tr>\n",
       "    <tr>\n",
       "      <th>B365L</th>\n",
       "      <td>-0.349092</td>\n",
       "      <td>-0.380120</td>\n",
       "      <td>0.895816</td>\n",
       "      <td>1.000000</td>\n",
       "      <td>0.604092</td>\n",
       "    </tr>\n",
       "    <tr>\n",
       "      <th>proba_elo</th>\n",
       "      <td>-0.645579</td>\n",
       "      <td>-0.694919</td>\n",
       "      <td>0.514963</td>\n",
       "      <td>0.604092</td>\n",
       "      <td>1.000000</td>\n",
       "    </tr>\n",
       "  </tbody>\n",
       "</table>\n",
       "</div>"
      ],
      "text/plain": [
       "                PSW     B365W       PSL     B365L  proba_elo\n",
       "PSW        1.000000  0.975464 -0.285524 -0.349092  -0.645579\n",
       "B365W      0.975464  1.000000 -0.308790 -0.380120  -0.694919\n",
       "PSL       -0.285524 -0.308790  1.000000  0.895816   0.514963\n",
       "B365L     -0.349092 -0.380120  0.895816  1.000000   0.604092\n",
       "proba_elo -0.645579 -0.694919  0.514963  0.604092   1.000000"
      ]
     },
     "execution_count": 51,
     "metadata": {},
     "output_type": "execute_result"
    }
   ],
   "source": [
    "df[['PSW', \"B365W\", \"PSL\", \"B365L\", \"proba_elo\"]].corr()"
   ]
  },
  {
   "cell_type": "markdown",
   "id": "9960b9f3",
   "metadata": {},
   "source": [
    "les cotes et la proba elo sont assez bien corréllées ce qui est plutôt logique et rassurant"
   ]
  },
  {
   "cell_type": "markdown",
   "id": "b2b4cda0",
   "metadata": {},
   "source": [
    "il peut être intéréssant de calculer le nombre de joueur total et le nombre de match par joueur en base"
   ]
  },
  {
   "cell_type": "code",
   "execution_count": 52,
   "id": "3074a5f1",
   "metadata": {},
   "outputs": [],
   "source": [
    "#liste de tous les winners et losers\n",
    "x = pd.concat([df.Winner, df.Loser], axis = 0)"
   ]
  },
  {
   "cell_type": "code",
   "execution_count": 53,
   "id": "d199f09e",
   "metadata": {},
   "outputs": [
    {
     "name": "stdout",
     "output_type": "stream",
     "text": [
      "il y 1381 joueurs présents dans la base\n"
     ]
    }
   ],
   "source": [
    "print(\"il y\", len(np.unique(x)), \"joueurs présents dans la base\")"
   ]
  },
  {
   "cell_type": "code",
   "execution_count": 54,
   "id": "1bd9b431",
   "metadata": {},
   "outputs": [
    {
     "data": {
      "text/plain": [
       "count    1381.000000\n",
       "mean       63.874004\n",
       "std       137.172371\n",
       "min         1.000000\n",
       "25%         2.000000\n",
       "50%         5.000000\n",
       "75%        48.000000\n",
       "max      1148.000000\n",
       "dtype: float64"
      ]
     },
     "execution_count": 54,
     "metadata": {},
     "output_type": "execute_result"
    }
   ],
   "source": [
    "x.value_counts().describe()"
   ]
  },
  {
   "cell_type": "markdown",
   "id": "476a384d",
   "metadata": {},
   "source": [
    "Il y a 50% des joueurs de la base qui apparaisent entre 1 et 6 fois"
   ]
  },
  {
   "cell_type": "markdown",
   "id": "7f160dab",
   "metadata": {},
   "source": [
    "Il y a 50% des joueurs de la base qui apparaisent entre 1 et 6 fois,\n",
    "\n",
    "cela pourra peut etre poser problème pour la consistance des prédictions."
   ]
  },
  {
   "cell_type": "code",
   "execution_count": 29,
   "id": "f4fa2657",
   "metadata": {
    "scrolled": true
   },
   "outputs": [],
   "source": [
    "\n",
    "df.to_csv(\"atp_data_clean.csv\")"
   ]
  },
  {
   "cell_type": "code",
   "execution_count": null,
   "id": "1ac4bd2f",
   "metadata": {},
   "outputs": [],
   "source": []
  }
 ],
 "metadata": {
  "kernelspec": {
   "display_name": "jupyter",
   "language": "python",
   "name": "jupyter"
  },
  "language_info": {
   "codemirror_mode": {
    "name": "ipython",
    "version": 3
   },
   "file_extension": ".py",
   "mimetype": "text/x-python",
   "name": "python",
   "nbconvert_exporter": "python",
   "pygments_lexer": "ipython3",
   "version": "3.9.7"
  }
 },
 "nbformat": 4,
 "nbformat_minor": 5
}
